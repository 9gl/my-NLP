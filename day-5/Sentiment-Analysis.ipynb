{
  "nbformat": 4,
  "nbformat_minor": 0,
  "metadata": {
    "colab": {
      "provenance": [],
      "collapsed_sections": [
        "EO3aIhuW2Okh",
        "1VFFNaIi2UEp"
      ],
      "authorship_tag": "ABX9TyPQ9j7DO094zclTS/foWjHD",
      "include_colab_link": true
    },
    "kernelspec": {
      "name": "python3",
      "display_name": "Python 3"
    },
    "language_info": {
      "name": "python"
    }
  },
  "cells": [
    {
      "cell_type": "markdown",
      "metadata": {
        "id": "view-in-github",
        "colab_type": "text"
      },
      "source": [
        "<a href=\"https://colab.research.google.com/github/9gl/my-NLP/blob/main/day-5/task.ipynb\" target=\"_parent\"><img src=\"https://colab.research.google.com/assets/colab-badge.svg\" alt=\"Open In Colab\"/></a>"
      ]
    },
    {
      "cell_type": "markdown",
      "source": [
        "## Dataset"
      ],
      "metadata": {
        "id": "EO3aIhuW2Okh"
      }
    },
    {
      "cell_type": "code",
      "source": [
        "!pip install opendatasets"
      ],
      "metadata": {
        "colab": {
          "base_uri": "https://localhost:8080/"
        },
        "id": "JODu20KN15Rp",
        "outputId": "80cd84cd-5a56-457d-e30b-d5132ac74a1e"
      },
      "execution_count": 1,
      "outputs": [
        {
          "output_type": "stream",
          "name": "stdout",
          "text": [
            "Looking in indexes: https://pypi.org/simple, https://us-python.pkg.dev/colab-wheels/public/simple/\n",
            "Requirement already satisfied: opendatasets in /usr/local/lib/python3.7/dist-packages (0.1.22)\n",
            "Requirement already satisfied: click in /usr/local/lib/python3.7/dist-packages (from opendatasets) (7.1.2)\n",
            "Requirement already satisfied: tqdm in /usr/local/lib/python3.7/dist-packages (from opendatasets) (4.64.1)\n",
            "Requirement already satisfied: kaggle in /usr/local/lib/python3.7/dist-packages (from opendatasets) (1.5.12)\n",
            "Requirement already satisfied: certifi in /usr/local/lib/python3.7/dist-packages (from kaggle->opendatasets) (2022.6.15)\n",
            "Requirement already satisfied: python-slugify in /usr/local/lib/python3.7/dist-packages (from kaggle->opendatasets) (6.1.2)\n",
            "Requirement already satisfied: python-dateutil in /usr/local/lib/python3.7/dist-packages (from kaggle->opendatasets) (2.8.2)\n",
            "Requirement already satisfied: six>=1.10 in /usr/local/lib/python3.7/dist-packages (from kaggle->opendatasets) (1.15.0)\n",
            "Requirement already satisfied: urllib3 in /usr/local/lib/python3.7/dist-packages (from kaggle->opendatasets) (1.24.3)\n",
            "Requirement already satisfied: requests in /usr/local/lib/python3.7/dist-packages (from kaggle->opendatasets) (2.23.0)\n",
            "Requirement already satisfied: text-unidecode>=1.3 in /usr/local/lib/python3.7/dist-packages (from python-slugify->kaggle->opendatasets) (1.3)\n",
            "Requirement already satisfied: chardet<4,>=3.0.2 in /usr/local/lib/python3.7/dist-packages (from requests->kaggle->opendatasets) (3.0.4)\n",
            "Requirement already satisfied: idna<3,>=2.5 in /usr/local/lib/python3.7/dist-packages (from requests->kaggle->opendatasets) (2.10)\n"
          ]
        }
      ]
    },
    {
      "cell_type": "code",
      "execution_count": 2,
      "metadata": {
        "colab": {
          "base_uri": "https://localhost:8080/"
        },
        "id": "RgV-4mCa1wVA",
        "outputId": "1aae7a8c-065e-43e5-f279-df64b6b0d1d2"
      },
      "outputs": [
        {
          "output_type": "stream",
          "name": "stdout",
          "text": [
            "Skipping, found downloaded files in \"./imdb-dataset-of-50k-movie-reviews\" (use force=True to force download)\n"
          ]
        }
      ],
      "source": [
        "import opendatasets as od\n",
        "import pandas\n",
        "\n",
        "od.download(\n",
        "\t\"https://www.kaggle.com/datasets/lakshmi25npathi/imdb-dataset-of-50k-movie-reviews\"\n",
        ")"
      ]
    },
    {
      "cell_type": "markdown",
      "source": [
        "##Importing the Dataset"
      ],
      "metadata": {
        "id": "1VFFNaIi2UEp"
      }
    },
    {
      "cell_type": "code",
      "source": [
        "import pandas as pd"
      ],
      "metadata": {
        "id": "kwAhjhvp16Ds"
      },
      "execution_count": 3,
      "outputs": []
    },
    {
      "cell_type": "code",
      "source": [
        "data = pd.read_csv('imdb-dataset-of-50k-movie-reviews/IMDB Dataset.csv')"
      ],
      "metadata": {
        "id": "HDT9vlYq2xjz"
      },
      "execution_count": 4,
      "outputs": []
    },
    {
      "cell_type": "code",
      "source": [
        "data.head()"
      ],
      "metadata": {
        "colab": {
          "base_uri": "https://localhost:8080/",
          "height": 206
        },
        "id": "cfvmGXqD5EAi",
        "outputId": "b3c4b6fa-40b8-4f7f-c94d-a025c4790560"
      },
      "execution_count": 5,
      "outputs": [
        {
          "output_type": "execute_result",
          "data": {
            "text/plain": [
              "                                              review sentiment\n",
              "0  One of the other reviewers has mentioned that ...  positive\n",
              "1  A wonderful little production. <br /><br />The...  positive\n",
              "2  I thought this was a wonderful way to spend ti...  positive\n",
              "3  Basically there's a family where a little boy ...  negative\n",
              "4  Petter Mattei's \"Love in the Time of Money\" is...  positive"
            ],
            "text/html": [
              "\n",
              "  <div id=\"df-2a06b8d1-b16b-47ce-8c6e-41a16c90637d\">\n",
              "    <div class=\"colab-df-container\">\n",
              "      <div>\n",
              "<style scoped>\n",
              "    .dataframe tbody tr th:only-of-type {\n",
              "        vertical-align: middle;\n",
              "    }\n",
              "\n",
              "    .dataframe tbody tr th {\n",
              "        vertical-align: top;\n",
              "    }\n",
              "\n",
              "    .dataframe thead th {\n",
              "        text-align: right;\n",
              "    }\n",
              "</style>\n",
              "<table border=\"1\" class=\"dataframe\">\n",
              "  <thead>\n",
              "    <tr style=\"text-align: right;\">\n",
              "      <th></th>\n",
              "      <th>review</th>\n",
              "      <th>sentiment</th>\n",
              "    </tr>\n",
              "  </thead>\n",
              "  <tbody>\n",
              "    <tr>\n",
              "      <th>0</th>\n",
              "      <td>One of the other reviewers has mentioned that ...</td>\n",
              "      <td>positive</td>\n",
              "    </tr>\n",
              "    <tr>\n",
              "      <th>1</th>\n",
              "      <td>A wonderful little production. &lt;br /&gt;&lt;br /&gt;The...</td>\n",
              "      <td>positive</td>\n",
              "    </tr>\n",
              "    <tr>\n",
              "      <th>2</th>\n",
              "      <td>I thought this was a wonderful way to spend ti...</td>\n",
              "      <td>positive</td>\n",
              "    </tr>\n",
              "    <tr>\n",
              "      <th>3</th>\n",
              "      <td>Basically there's a family where a little boy ...</td>\n",
              "      <td>negative</td>\n",
              "    </tr>\n",
              "    <tr>\n",
              "      <th>4</th>\n",
              "      <td>Petter Mattei's \"Love in the Time of Money\" is...</td>\n",
              "      <td>positive</td>\n",
              "    </tr>\n",
              "  </tbody>\n",
              "</table>\n",
              "</div>\n",
              "      <button class=\"colab-df-convert\" onclick=\"convertToInteractive('df-2a06b8d1-b16b-47ce-8c6e-41a16c90637d')\"\n",
              "              title=\"Convert this dataframe to an interactive table.\"\n",
              "              style=\"display:none;\">\n",
              "        \n",
              "  <svg xmlns=\"http://www.w3.org/2000/svg\" height=\"24px\"viewBox=\"0 0 24 24\"\n",
              "       width=\"24px\">\n",
              "    <path d=\"M0 0h24v24H0V0z\" fill=\"none\"/>\n",
              "    <path d=\"M18.56 5.44l.94 2.06.94-2.06 2.06-.94-2.06-.94-.94-2.06-.94 2.06-2.06.94zm-11 1L8.5 8.5l.94-2.06 2.06-.94-2.06-.94L8.5 2.5l-.94 2.06-2.06.94zm10 10l.94 2.06.94-2.06 2.06-.94-2.06-.94-.94-2.06-.94 2.06-2.06.94z\"/><path d=\"M17.41 7.96l-1.37-1.37c-.4-.4-.92-.59-1.43-.59-.52 0-1.04.2-1.43.59L10.3 9.45l-7.72 7.72c-.78.78-.78 2.05 0 2.83L4 21.41c.39.39.9.59 1.41.59.51 0 1.02-.2 1.41-.59l7.78-7.78 2.81-2.81c.8-.78.8-2.07 0-2.86zM5.41 20L4 18.59l7.72-7.72 1.47 1.35L5.41 20z\"/>\n",
              "  </svg>\n",
              "      </button>\n",
              "      \n",
              "  <style>\n",
              "    .colab-df-container {\n",
              "      display:flex;\n",
              "      flex-wrap:wrap;\n",
              "      gap: 12px;\n",
              "    }\n",
              "\n",
              "    .colab-df-convert {\n",
              "      background-color: #E8F0FE;\n",
              "      border: none;\n",
              "      border-radius: 50%;\n",
              "      cursor: pointer;\n",
              "      display: none;\n",
              "      fill: #1967D2;\n",
              "      height: 32px;\n",
              "      padding: 0 0 0 0;\n",
              "      width: 32px;\n",
              "    }\n",
              "\n",
              "    .colab-df-convert:hover {\n",
              "      background-color: #E2EBFA;\n",
              "      box-shadow: 0px 1px 2px rgba(60, 64, 67, 0.3), 0px 1px 3px 1px rgba(60, 64, 67, 0.15);\n",
              "      fill: #174EA6;\n",
              "    }\n",
              "\n",
              "    [theme=dark] .colab-df-convert {\n",
              "      background-color: #3B4455;\n",
              "      fill: #D2E3FC;\n",
              "    }\n",
              "\n",
              "    [theme=dark] .colab-df-convert:hover {\n",
              "      background-color: #434B5C;\n",
              "      box-shadow: 0px 1px 3px 1px rgba(0, 0, 0, 0.15);\n",
              "      filter: drop-shadow(0px 1px 2px rgba(0, 0, 0, 0.3));\n",
              "      fill: #FFFFFF;\n",
              "    }\n",
              "  </style>\n",
              "\n",
              "      <script>\n",
              "        const buttonEl =\n",
              "          document.querySelector('#df-2a06b8d1-b16b-47ce-8c6e-41a16c90637d button.colab-df-convert');\n",
              "        buttonEl.style.display =\n",
              "          google.colab.kernel.accessAllowed ? 'block' : 'none';\n",
              "\n",
              "        async function convertToInteractive(key) {\n",
              "          const element = document.querySelector('#df-2a06b8d1-b16b-47ce-8c6e-41a16c90637d');\n",
              "          const dataTable =\n",
              "            await google.colab.kernel.invokeFunction('convertToInteractive',\n",
              "                                                     [key], {});\n",
              "          if (!dataTable) return;\n",
              "\n",
              "          const docLinkHtml = 'Like what you see? Visit the ' +\n",
              "            '<a target=\"_blank\" href=https://colab.research.google.com/notebooks/data_table.ipynb>data table notebook</a>'\n",
              "            + ' to learn more about interactive tables.';\n",
              "          element.innerHTML = '';\n",
              "          dataTable['output_type'] = 'display_data';\n",
              "          await google.colab.output.renderOutput(dataTable, element);\n",
              "          const docLink = document.createElement('div');\n",
              "          docLink.innerHTML = docLinkHtml;\n",
              "          element.appendChild(docLink);\n",
              "        }\n",
              "      </script>\n",
              "    </div>\n",
              "  </div>\n",
              "  "
            ]
          },
          "metadata": {},
          "execution_count": 5
        }
      ]
    },
    {
      "cell_type": "code",
      "source": [
        "data.shape"
      ],
      "metadata": {
        "colab": {
          "base_uri": "https://localhost:8080/"
        },
        "id": "V-oaI24b5Fh7",
        "outputId": "4b9d6b18-8495-4d31-85b8-9109b81338c2"
      },
      "execution_count": 6,
      "outputs": [
        {
          "output_type": "execute_result",
          "data": {
            "text/plain": [
              "(50000, 2)"
            ]
          },
          "metadata": {},
          "execution_count": 6
        }
      ]
    },
    {
      "cell_type": "code",
      "source": [
        "data.tail()"
      ],
      "metadata": {
        "colab": {
          "base_uri": "https://localhost:8080/",
          "height": 206
        },
        "id": "SHfoDOHN8DFY",
        "outputId": "9aaa8205-2e6e-4c37-a6ee-e0b0ecc48959"
      },
      "execution_count": 7,
      "outputs": [
        {
          "output_type": "execute_result",
          "data": {
            "text/plain": [
              "                                                  review sentiment\n",
              "49995  I thought this movie did a down right good job...  positive\n",
              "49996  Bad plot, bad dialogue, bad acting, idiotic di...  negative\n",
              "49997  I am a Catholic taught in parochial elementary...  negative\n",
              "49998  I'm going to have to disagree with the previou...  negative\n",
              "49999  No one expects the Star Trek movies to be high...  negative"
            ],
            "text/html": [
              "\n",
              "  <div id=\"df-1e544320-2052-40c5-9362-3f8b226eae40\">\n",
              "    <div class=\"colab-df-container\">\n",
              "      <div>\n",
              "<style scoped>\n",
              "    .dataframe tbody tr th:only-of-type {\n",
              "        vertical-align: middle;\n",
              "    }\n",
              "\n",
              "    .dataframe tbody tr th {\n",
              "        vertical-align: top;\n",
              "    }\n",
              "\n",
              "    .dataframe thead th {\n",
              "        text-align: right;\n",
              "    }\n",
              "</style>\n",
              "<table border=\"1\" class=\"dataframe\">\n",
              "  <thead>\n",
              "    <tr style=\"text-align: right;\">\n",
              "      <th></th>\n",
              "      <th>review</th>\n",
              "      <th>sentiment</th>\n",
              "    </tr>\n",
              "  </thead>\n",
              "  <tbody>\n",
              "    <tr>\n",
              "      <th>49995</th>\n",
              "      <td>I thought this movie did a down right good job...</td>\n",
              "      <td>positive</td>\n",
              "    </tr>\n",
              "    <tr>\n",
              "      <th>49996</th>\n",
              "      <td>Bad plot, bad dialogue, bad acting, idiotic di...</td>\n",
              "      <td>negative</td>\n",
              "    </tr>\n",
              "    <tr>\n",
              "      <th>49997</th>\n",
              "      <td>I am a Catholic taught in parochial elementary...</td>\n",
              "      <td>negative</td>\n",
              "    </tr>\n",
              "    <tr>\n",
              "      <th>49998</th>\n",
              "      <td>I'm going to have to disagree with the previou...</td>\n",
              "      <td>negative</td>\n",
              "    </tr>\n",
              "    <tr>\n",
              "      <th>49999</th>\n",
              "      <td>No one expects the Star Trek movies to be high...</td>\n",
              "      <td>negative</td>\n",
              "    </tr>\n",
              "  </tbody>\n",
              "</table>\n",
              "</div>\n",
              "      <button class=\"colab-df-convert\" onclick=\"convertToInteractive('df-1e544320-2052-40c5-9362-3f8b226eae40')\"\n",
              "              title=\"Convert this dataframe to an interactive table.\"\n",
              "              style=\"display:none;\">\n",
              "        \n",
              "  <svg xmlns=\"http://www.w3.org/2000/svg\" height=\"24px\"viewBox=\"0 0 24 24\"\n",
              "       width=\"24px\">\n",
              "    <path d=\"M0 0h24v24H0V0z\" fill=\"none\"/>\n",
              "    <path d=\"M18.56 5.44l.94 2.06.94-2.06 2.06-.94-2.06-.94-.94-2.06-.94 2.06-2.06.94zm-11 1L8.5 8.5l.94-2.06 2.06-.94-2.06-.94L8.5 2.5l-.94 2.06-2.06.94zm10 10l.94 2.06.94-2.06 2.06-.94-2.06-.94-.94-2.06-.94 2.06-2.06.94z\"/><path d=\"M17.41 7.96l-1.37-1.37c-.4-.4-.92-.59-1.43-.59-.52 0-1.04.2-1.43.59L10.3 9.45l-7.72 7.72c-.78.78-.78 2.05 0 2.83L4 21.41c.39.39.9.59 1.41.59.51 0 1.02-.2 1.41-.59l7.78-7.78 2.81-2.81c.8-.78.8-2.07 0-2.86zM5.41 20L4 18.59l7.72-7.72 1.47 1.35L5.41 20z\"/>\n",
              "  </svg>\n",
              "      </button>\n",
              "      \n",
              "  <style>\n",
              "    .colab-df-container {\n",
              "      display:flex;\n",
              "      flex-wrap:wrap;\n",
              "      gap: 12px;\n",
              "    }\n",
              "\n",
              "    .colab-df-convert {\n",
              "      background-color: #E8F0FE;\n",
              "      border: none;\n",
              "      border-radius: 50%;\n",
              "      cursor: pointer;\n",
              "      display: none;\n",
              "      fill: #1967D2;\n",
              "      height: 32px;\n",
              "      padding: 0 0 0 0;\n",
              "      width: 32px;\n",
              "    }\n",
              "\n",
              "    .colab-df-convert:hover {\n",
              "      background-color: #E2EBFA;\n",
              "      box-shadow: 0px 1px 2px rgba(60, 64, 67, 0.3), 0px 1px 3px 1px rgba(60, 64, 67, 0.15);\n",
              "      fill: #174EA6;\n",
              "    }\n",
              "\n",
              "    [theme=dark] .colab-df-convert {\n",
              "      background-color: #3B4455;\n",
              "      fill: #D2E3FC;\n",
              "    }\n",
              "\n",
              "    [theme=dark] .colab-df-convert:hover {\n",
              "      background-color: #434B5C;\n",
              "      box-shadow: 0px 1px 3px 1px rgba(0, 0, 0, 0.15);\n",
              "      filter: drop-shadow(0px 1px 2px rgba(0, 0, 0, 0.3));\n",
              "      fill: #FFFFFF;\n",
              "    }\n",
              "  </style>\n",
              "\n",
              "      <script>\n",
              "        const buttonEl =\n",
              "          document.querySelector('#df-1e544320-2052-40c5-9362-3f8b226eae40 button.colab-df-convert');\n",
              "        buttonEl.style.display =\n",
              "          google.colab.kernel.accessAllowed ? 'block' : 'none';\n",
              "\n",
              "        async function convertToInteractive(key) {\n",
              "          const element = document.querySelector('#df-1e544320-2052-40c5-9362-3f8b226eae40');\n",
              "          const dataTable =\n",
              "            await google.colab.kernel.invokeFunction('convertToInteractive',\n",
              "                                                     [key], {});\n",
              "          if (!dataTable) return;\n",
              "\n",
              "          const docLinkHtml = 'Like what you see? Visit the ' +\n",
              "            '<a target=\"_blank\" href=https://colab.research.google.com/notebooks/data_table.ipynb>data table notebook</a>'\n",
              "            + ' to learn more about interactive tables.';\n",
              "          element.innerHTML = '';\n",
              "          dataTable['output_type'] = 'display_data';\n",
              "          await google.colab.output.renderOutput(dataTable, element);\n",
              "          const docLink = document.createElement('div');\n",
              "          docLink.innerHTML = docLinkHtml;\n",
              "          element.appendChild(docLink);\n",
              "        }\n",
              "      </script>\n",
              "    </div>\n",
              "  </div>\n",
              "  "
            ]
          },
          "metadata": {},
          "execution_count": 7
        }
      ]
    },
    {
      "cell_type": "code",
      "source": [
        "data['review'][0]"
      ],
      "metadata": {
        "colab": {
          "base_uri": "https://localhost:8080/",
          "height": 191
        },
        "id": "2meRgI7u8Fl8",
        "outputId": "b7754e4c-d5fd-403c-efc0-39cfd9494537"
      },
      "execution_count": 8,
      "outputs": [
        {
          "output_type": "execute_result",
          "data": {
            "text/plain": [
              "\"One of the other reviewers has mentioned that after watching just 1 Oz episode you'll be hooked. They are right, as this is exactly what happened with me.<br /><br />The first thing that struck me about Oz was its brutality and unflinching scenes of violence, which set in right from the word GO. Trust me, this is not a show for the faint hearted or timid. This show pulls no punches with regards to drugs, sex or violence. Its is hardcore, in the classic use of the word.<br /><br />It is called OZ as that is the nickname given to the Oswald Maximum Security State Penitentary. It focuses mainly on Emerald City, an experimental section of the prison where all the cells have glass fronts and face inwards, so privacy is not high on the agenda. Em City is home to many..Aryans, Muslims, gangstas, Latinos, Christians, Italians, Irish and more....so scuffles, death stares, dodgy dealings and shady agreements are never far away.<br /><br />I would say the main appeal of the show is due to the fact that it goes where other shows wouldn't dare. Forget pretty pictures painted for mainstream audiences, forget charm, forget romance...OZ doesn't mess around. The first episode I ever saw struck me as so nasty it was surreal, I couldn't say I was ready for it, but as I watched more, I developed a taste for Oz, and got accustomed to the high levels of graphic violence. Not just violence, but injustice (crooked guards who'll be sold out for a nickel, inmates who'll kill on order and get away with it, well mannered, middle class inmates being turned into prison bitches due to their lack of street skills or prison experience) Watching Oz, you may become comfortable with what is uncomfortable viewing....thats if you can get in touch with your darker side.\""
            ],
            "application/vnd.google.colaboratory.intrinsic+json": {
              "type": "string"
            }
          },
          "metadata": {},
          "execution_count": 8
        }
      ]
    },
    {
      "cell_type": "code",
      "source": [
        "data['sentiment'][0]"
      ],
      "metadata": {
        "colab": {
          "base_uri": "https://localhost:8080/",
          "height": 35
        },
        "id": "001IOzfw8Mhv",
        "outputId": "472c8543-4251-4b3f-ab58-ae9318e8d305"
      },
      "execution_count": 9,
      "outputs": [
        {
          "output_type": "execute_result",
          "data": {
            "text/plain": [
              "'positive'"
            ],
            "application/vnd.google.colaboratory.intrinsic+json": {
              "type": "string"
            }
          },
          "metadata": {},
          "execution_count": 9
        }
      ]
    },
    {
      "cell_type": "markdown",
      "source": [
        "## Text preprocessing"
      ],
      "metadata": {
        "id": "aa3lp4op8eRP"
      }
    },
    {
      "cell_type": "code",
      "source": [
        "import nltk"
      ],
      "metadata": {
        "id": "zACWogC18WvY"
      },
      "execution_count": 10,
      "outputs": []
    },
    {
      "cell_type": "code",
      "source": [
        "nltk.download('stopwords')"
      ],
      "metadata": {
        "colab": {
          "base_uri": "https://localhost:8080/"
        },
        "id": "o3Q_B-P3B3ro",
        "outputId": "325986a0-2e7e-4075-f1ed-7c88f3bf1997"
      },
      "execution_count": 11,
      "outputs": [
        {
          "output_type": "stream",
          "name": "stderr",
          "text": [
            "[nltk_data] Downloading package stopwords to /root/nltk_data...\n",
            "[nltk_data]   Package stopwords is already up-to-date!\n"
          ]
        },
        {
          "output_type": "execute_result",
          "data": {
            "text/plain": [
              "True"
            ]
          },
          "metadata": {},
          "execution_count": 11
        }
      ]
    },
    {
      "cell_type": "code",
      "source": [
        "nltk.download('omw-1.4')"
      ],
      "metadata": {
        "colab": {
          "base_uri": "https://localhost:8080/"
        },
        "id": "5UrlUZYDCmyY",
        "outputId": "072c5939-90bf-4f42-c678-8884a9231145"
      },
      "execution_count": 12,
      "outputs": [
        {
          "output_type": "stream",
          "name": "stderr",
          "text": [
            "[nltk_data] Downloading package omw-1.4 to /root/nltk_data...\n",
            "[nltk_data]   Package omw-1.4 is already up-to-date!\n"
          ]
        },
        {
          "output_type": "execute_result",
          "data": {
            "text/plain": [
              "True"
            ]
          },
          "metadata": {},
          "execution_count": 12
        }
      ]
    },
    {
      "cell_type": "code",
      "source": [
        "nltk.download('wordnet')"
      ],
      "metadata": {
        "colab": {
          "base_uri": "https://localhost:8080/"
        },
        "id": "gcqpSVndCgq1",
        "outputId": "f3a74d46-78e2-4828-b780-3c5874e05cc7"
      },
      "execution_count": 13,
      "outputs": [
        {
          "output_type": "stream",
          "name": "stderr",
          "text": [
            "[nltk_data] Downloading package wordnet to /root/nltk_data...\n",
            "[nltk_data]   Package wordnet is already up-to-date!\n"
          ]
        },
        {
          "output_type": "execute_result",
          "data": {
            "text/plain": [
              "True"
            ]
          },
          "metadata": {},
          "execution_count": 13
        }
      ]
    },
    {
      "cell_type": "code",
      "source": [
        "import re"
      ],
      "metadata": {
        "id": "ziuN-2BcTe0p"
      },
      "execution_count": 14,
      "outputs": []
    },
    {
      "cell_type": "code",
      "source": [
        "def remove_tags(text):\n",
        "    return re.sub(\"<.*?>\", ' ', text)"
      ],
      "metadata": {
        "id": "B_rHGT1IW6AK"
      },
      "execution_count": 15,
      "outputs": []
    },
    {
      "cell_type": "code",
      "source": [
        "data['review'] = data['review'].apply(remove_tags)"
      ],
      "metadata": {
        "id": "0ZtqiinNXPNo"
      },
      "execution_count": 16,
      "outputs": []
    },
    {
      "cell_type": "code",
      "source": [
        "data['review'][0]"
      ],
      "metadata": {
        "colab": {
          "base_uri": "https://localhost:8080/",
          "height": 191
        },
        "id": "EJ1_6MVNXXG9",
        "outputId": "d0f07cbd-a400-4143-efec-c27b4fffd611"
      },
      "execution_count": 17,
      "outputs": [
        {
          "output_type": "execute_result",
          "data": {
            "text/plain": [
              "\"One of the other reviewers has mentioned that after watching just 1 Oz episode you'll be hooked. They are right, as this is exactly what happened with me.  The first thing that struck me about Oz was its brutality and unflinching scenes of violence, which set in right from the word GO. Trust me, this is not a show for the faint hearted or timid. This show pulls no punches with regards to drugs, sex or violence. Its is hardcore, in the classic use of the word.  It is called OZ as that is the nickname given to the Oswald Maximum Security State Penitentary. It focuses mainly on Emerald City, an experimental section of the prison where all the cells have glass fronts and face inwards, so privacy is not high on the agenda. Em City is home to many..Aryans, Muslims, gangstas, Latinos, Christians, Italians, Irish and more....so scuffles, death stares, dodgy dealings and shady agreements are never far away.  I would say the main appeal of the show is due to the fact that it goes where other shows wouldn't dare. Forget pretty pictures painted for mainstream audiences, forget charm, forget romance...OZ doesn't mess around. The first episode I ever saw struck me as so nasty it was surreal, I couldn't say I was ready for it, but as I watched more, I developed a taste for Oz, and got accustomed to the high levels of graphic violence. Not just violence, but injustice (crooked guards who'll be sold out for a nickel, inmates who'll kill on order and get away with it, well mannered, middle class inmates being turned into prison bitches due to their lack of street skills or prison experience) Watching Oz, you may become comfortable with what is uncomfortable viewing....thats if you can get in touch with your darker side.\""
            ],
            "application/vnd.google.colaboratory.intrinsic+json": {
              "type": "string"
            }
          },
          "metadata": {},
          "execution_count": 17
        }
      ]
    },
    {
      "cell_type": "code",
      "source": [
        "def clean_special_chars(text):\n",
        "    return re.sub('[^a-zA-Z0-9]',' ', text)"
      ],
      "metadata": {
        "id": "jKqg-1vxXez0"
      },
      "execution_count": 18,
      "outputs": []
    },
    {
      "cell_type": "code",
      "source": [
        "data['review'] = data['review'].apply(clean_special_chars)"
      ],
      "metadata": {
        "id": "7smwLf8LX_zj"
      },
      "execution_count": 19,
      "outputs": []
    },
    {
      "cell_type": "code",
      "source": [
        "data['review'][0]"
      ],
      "metadata": {
        "colab": {
          "base_uri": "https://localhost:8080/",
          "height": 191
        },
        "id": "mi7bvzgVYDCK",
        "outputId": "7747a006-1ba5-47d7-e62e-a67bcc17b9e0"
      },
      "execution_count": 20,
      "outputs": [
        {
          "output_type": "execute_result",
          "data": {
            "text/plain": [
              "'One of the other reviewers has mentioned that after watching just 1 Oz episode you ll be hooked  They are right  as this is exactly what happened with me   The first thing that struck me about Oz was its brutality and unflinching scenes of violence  which set in right from the word GO  Trust me  this is not a show for the faint hearted or timid  This show pulls no punches with regards to drugs  sex or violence  Its is hardcore  in the classic use of the word   It is called OZ as that is the nickname given to the Oswald Maximum Security State Penitentary  It focuses mainly on Emerald City  an experimental section of the prison where all the cells have glass fronts and face inwards  so privacy is not high on the agenda  Em City is home to many  Aryans  Muslims  gangstas  Latinos  Christians  Italians  Irish and more    so scuffles  death stares  dodgy dealings and shady agreements are never far away   I would say the main appeal of the show is due to the fact that it goes where other shows wouldn t dare  Forget pretty pictures painted for mainstream audiences  forget charm  forget romance   OZ doesn t mess around  The first episode I ever saw struck me as so nasty it was surreal  I couldn t say I was ready for it  but as I watched more  I developed a taste for Oz  and got accustomed to the high levels of graphic violence  Not just violence  but injustice  crooked guards who ll be sold out for a nickel  inmates who ll kill on order and get away with it  well mannered  middle class inmates being turned into prison bitches due to their lack of street skills or prison experience  Watching Oz  you may become comfortable with what is uncomfortable viewing    thats if you can get in touch with your darker side '"
            ],
            "application/vnd.google.colaboratory.intrinsic+json": {
              "type": "string"
            }
          },
          "metadata": {},
          "execution_count": 20
        }
      ]
    },
    {
      "cell_type": "code",
      "source": [
        "def to_lower(text):\n",
        "    return text.lower()"
      ],
      "metadata": {
        "id": "GLKe8UulYfWs"
      },
      "execution_count": 21,
      "outputs": []
    },
    {
      "cell_type": "code",
      "source": [
        "data['review'] = data['review'].apply(to_lower)"
      ],
      "metadata": {
        "id": "hgxKwsj8YnX7"
      },
      "execution_count": 22,
      "outputs": []
    },
    {
      "cell_type": "code",
      "source": [
        "data['review'][0]"
      ],
      "metadata": {
        "colab": {
          "base_uri": "https://localhost:8080/",
          "height": 191
        },
        "id": "s0RzJ8xYYrko",
        "outputId": "26a59462-71a9-4d74-e3ab-41f5c82d0ad5"
      },
      "execution_count": 23,
      "outputs": [
        {
          "output_type": "execute_result",
          "data": {
            "text/plain": [
              "'one of the other reviewers has mentioned that after watching just 1 oz episode you ll be hooked  they are right  as this is exactly what happened with me   the first thing that struck me about oz was its brutality and unflinching scenes of violence  which set in right from the word go  trust me  this is not a show for the faint hearted or timid  this show pulls no punches with regards to drugs  sex or violence  its is hardcore  in the classic use of the word   it is called oz as that is the nickname given to the oswald maximum security state penitentary  it focuses mainly on emerald city  an experimental section of the prison where all the cells have glass fronts and face inwards  so privacy is not high on the agenda  em city is home to many  aryans  muslims  gangstas  latinos  christians  italians  irish and more    so scuffles  death stares  dodgy dealings and shady agreements are never far away   i would say the main appeal of the show is due to the fact that it goes where other shows wouldn t dare  forget pretty pictures painted for mainstream audiences  forget charm  forget romance   oz doesn t mess around  the first episode i ever saw struck me as so nasty it was surreal  i couldn t say i was ready for it  but as i watched more  i developed a taste for oz  and got accustomed to the high levels of graphic violence  not just violence  but injustice  crooked guards who ll be sold out for a nickel  inmates who ll kill on order and get away with it  well mannered  middle class inmates being turned into prison bitches due to their lack of street skills or prison experience  watching oz  you may become comfortable with what is uncomfortable viewing    thats if you can get in touch with your darker side '"
            ],
            "application/vnd.google.colaboratory.intrinsic+json": {
              "type": "string"
            }
          },
          "metadata": {},
          "execution_count": 23
        }
      ]
    },
    {
      "cell_type": "code",
      "source": [
        "def split_text(text):\n",
        "    return text.split()"
      ],
      "metadata": {
        "id": "G6lY0mt6Yv7d"
      },
      "execution_count": 24,
      "outputs": []
    },
    {
      "cell_type": "code",
      "source": [
        "data['review'] = data['review'].apply(split_text)"
      ],
      "metadata": {
        "id": "YoHpG0FHY6oo"
      },
      "execution_count": 25,
      "outputs": []
    },
    {
      "cell_type": "code",
      "source": [
        "from nltk.corpus import stopwords "
      ],
      "metadata": {
        "id": "LCIieR8ETVZ3"
      },
      "execution_count": 26,
      "outputs": []
    },
    {
      "cell_type": "code",
      "source": [
        "def remove_stopwords(text):\n",
        "    stopWords = stopwords.words('english')\n",
        "    l = []\n",
        "    for word in text:\n",
        "        if word not in stopWords:\n",
        "            l.append(word)\n",
        "    return l"
      ],
      "metadata": {
        "id": "ABR5RVN9ZVDi"
      },
      "execution_count": 27,
      "outputs": []
    },
    {
      "cell_type": "code",
      "source": [
        "data['review'] = data['review'].apply(remove_stopwords)"
      ],
      "metadata": {
        "id": "lmrKy64XZ68T"
      },
      "execution_count": 28,
      "outputs": []
    },
    {
      "cell_type": "code",
      "source": [
        "from nltk.stem import WordNetLemmatizer"
      ],
      "metadata": {
        "id": "E6sK65EQaVXX"
      },
      "execution_count": 29,
      "outputs": []
    },
    {
      "cell_type": "code",
      "source": [
        "lemmatizer = WordNetLemmatizer()"
      ],
      "metadata": {
        "id": "RfVY0qA7TTEN"
      },
      "execution_count": 30,
      "outputs": []
    },
    {
      "cell_type": "code",
      "source": [
        "def perform_lemmatize(text):\n",
        "    return [lemmatizer.lemmatize(word) for word in text]"
      ],
      "metadata": {
        "id": "rd1J7s2yS6zX"
      },
      "execution_count": 31,
      "outputs": []
    },
    {
      "cell_type": "code",
      "source": [
        "data['review'] = data['review'].apply(perform_lemmatize)"
      ],
      "metadata": {
        "id": "sKVINAdDa8Ht"
      },
      "execution_count": 32,
      "outputs": []
    },
    {
      "cell_type": "code",
      "source": [
        "data['review'][0]"
      ],
      "metadata": {
        "colab": {
          "base_uri": "https://localhost:8080/"
        },
        "id": "ItDmpKB8bEgD",
        "outputId": "822021a5-c542-4c64-fdc5-e161d3dde568"
      },
      "execution_count": 33,
      "outputs": [
        {
          "output_type": "execute_result",
          "data": {
            "text/plain": [
              "['one',\n",
              " 'reviewer',\n",
              " 'mentioned',\n",
              " 'watching',\n",
              " '1',\n",
              " 'oz',\n",
              " 'episode',\n",
              " 'hooked',\n",
              " 'right',\n",
              " 'exactly',\n",
              " 'happened',\n",
              " 'first',\n",
              " 'thing',\n",
              " 'struck',\n",
              " 'oz',\n",
              " 'brutality',\n",
              " 'unflinching',\n",
              " 'scene',\n",
              " 'violence',\n",
              " 'set',\n",
              " 'right',\n",
              " 'word',\n",
              " 'go',\n",
              " 'trust',\n",
              " 'show',\n",
              " 'faint',\n",
              " 'hearted',\n",
              " 'timid',\n",
              " 'show',\n",
              " 'pull',\n",
              " 'punch',\n",
              " 'regard',\n",
              " 'drug',\n",
              " 'sex',\n",
              " 'violence',\n",
              " 'hardcore',\n",
              " 'classic',\n",
              " 'use',\n",
              " 'word',\n",
              " 'called',\n",
              " 'oz',\n",
              " 'nickname',\n",
              " 'given',\n",
              " 'oswald',\n",
              " 'maximum',\n",
              " 'security',\n",
              " 'state',\n",
              " 'penitentary',\n",
              " 'focus',\n",
              " 'mainly',\n",
              " 'emerald',\n",
              " 'city',\n",
              " 'experimental',\n",
              " 'section',\n",
              " 'prison',\n",
              " 'cell',\n",
              " 'glass',\n",
              " 'front',\n",
              " 'face',\n",
              " 'inwards',\n",
              " 'privacy',\n",
              " 'high',\n",
              " 'agenda',\n",
              " 'em',\n",
              " 'city',\n",
              " 'home',\n",
              " 'many',\n",
              " 'aryan',\n",
              " 'muslim',\n",
              " 'gangsta',\n",
              " 'latino',\n",
              " 'christian',\n",
              " 'italian',\n",
              " 'irish',\n",
              " 'scuffle',\n",
              " 'death',\n",
              " 'stare',\n",
              " 'dodgy',\n",
              " 'dealing',\n",
              " 'shady',\n",
              " 'agreement',\n",
              " 'never',\n",
              " 'far',\n",
              " 'away',\n",
              " 'would',\n",
              " 'say',\n",
              " 'main',\n",
              " 'appeal',\n",
              " 'show',\n",
              " 'due',\n",
              " 'fact',\n",
              " 'go',\n",
              " 'show',\n",
              " 'dare',\n",
              " 'forget',\n",
              " 'pretty',\n",
              " 'picture',\n",
              " 'painted',\n",
              " 'mainstream',\n",
              " 'audience',\n",
              " 'forget',\n",
              " 'charm',\n",
              " 'forget',\n",
              " 'romance',\n",
              " 'oz',\n",
              " 'mess',\n",
              " 'around',\n",
              " 'first',\n",
              " 'episode',\n",
              " 'ever',\n",
              " 'saw',\n",
              " 'struck',\n",
              " 'nasty',\n",
              " 'surreal',\n",
              " 'say',\n",
              " 'ready',\n",
              " 'watched',\n",
              " 'developed',\n",
              " 'taste',\n",
              " 'oz',\n",
              " 'got',\n",
              " 'accustomed',\n",
              " 'high',\n",
              " 'level',\n",
              " 'graphic',\n",
              " 'violence',\n",
              " 'violence',\n",
              " 'injustice',\n",
              " 'crooked',\n",
              " 'guard',\n",
              " 'sold',\n",
              " 'nickel',\n",
              " 'inmate',\n",
              " 'kill',\n",
              " 'order',\n",
              " 'get',\n",
              " 'away',\n",
              " 'well',\n",
              " 'mannered',\n",
              " 'middle',\n",
              " 'class',\n",
              " 'inmate',\n",
              " 'turned',\n",
              " 'prison',\n",
              " 'bitch',\n",
              " 'due',\n",
              " 'lack',\n",
              " 'street',\n",
              " 'skill',\n",
              " 'prison',\n",
              " 'experience',\n",
              " 'watching',\n",
              " 'oz',\n",
              " 'may',\n",
              " 'become',\n",
              " 'comfortable',\n",
              " 'uncomfortable',\n",
              " 'viewing',\n",
              " 'thats',\n",
              " 'get',\n",
              " 'touch',\n",
              " 'darker',\n",
              " 'side']"
            ]
          },
          "metadata": {},
          "execution_count": 33
        }
      ]
    },
    {
      "cell_type": "code",
      "source": [
        "def join_back(list_input):\n",
        "    return ' '.join(list_input)"
      ],
      "metadata": {
        "id": "uKLNja2WZYO_"
      },
      "execution_count": 34,
      "outputs": []
    },
    {
      "cell_type": "code",
      "source": [
        "data['review'] = data['review'].apply(join_back)"
      ],
      "metadata": {
        "id": "maiwI96Zd6Ix"
      },
      "execution_count": 35,
      "outputs": []
    },
    {
      "cell_type": "code",
      "source": [
        "data['review'][0]"
      ],
      "metadata": {
        "colab": {
          "base_uri": "https://localhost:8080/",
          "height": 191
        },
        "id": "4FllwmVNd9iK",
        "outputId": "eeb48ebc-c25a-4ff7-d44a-fd6da27783ca"
      },
      "execution_count": 36,
      "outputs": [
        {
          "output_type": "execute_result",
          "data": {
            "text/plain": [
              "'one reviewer mentioned watching 1 oz episode hooked right exactly happened first thing struck oz brutality unflinching scene violence set right word go trust show faint hearted timid show pull punch regard drug sex violence hardcore classic use word called oz nickname given oswald maximum security state penitentary focus mainly emerald city experimental section prison cell glass front face inwards privacy high agenda em city home many aryan muslim gangsta latino christian italian irish scuffle death stare dodgy dealing shady agreement never far away would say main appeal show due fact go show dare forget pretty picture painted mainstream audience forget charm forget romance oz mess around first episode ever saw struck nasty surreal say ready watched developed taste oz got accustomed high level graphic violence violence injustice crooked guard sold nickel inmate kill order get away well mannered middle class inmate turned prison bitch due lack street skill prison experience watching oz may become comfortable uncomfortable viewing thats get touch darker side'"
            ],
            "application/vnd.google.colaboratory.intrinsic+json": {
              "type": "string"
            }
          },
          "metadata": {},
          "execution_count": 36
        }
      ]
    },
    {
      "cell_type": "markdown",
      "source": [
        "## Bag of Words"
      ],
      "metadata": {
        "id": "fIUw_BAxePGu"
      }
    },
    {
      "cell_type": "code",
      "source": [
        "X = data.iloc[:,0:1].values "
      ],
      "metadata": {
        "id": "bH5Zxn-8e6zV"
      },
      "execution_count": 37,
      "outputs": []
    },
    {
      "cell_type": "code",
      "source": [
        "X.shape"
      ],
      "metadata": {
        "colab": {
          "base_uri": "https://localhost:8080/"
        },
        "id": "xUB8-IYifBJC",
        "outputId": "efaabe43-7b27-48a7-ff26-a900db00fd0b"
      },
      "execution_count": 38,
      "outputs": [
        {
          "output_type": "execute_result",
          "data": {
            "text/plain": [
              "(50000, 1)"
            ]
          },
          "metadata": {},
          "execution_count": 38
        }
      ]
    },
    {
      "cell_type": "code",
      "source": [
        "from sklearn.feature_extraction.text import CountVectorizer \n",
        "cv = CountVectorizer(max_features=2500)"
      ],
      "metadata": {
        "id": "IIxqtdZBd_zF"
      },
      "execution_count": 39,
      "outputs": []
    },
    {
      "cell_type": "code",
      "source": [
        "X = cv.fit_transform(data['review']).toarray()"
      ],
      "metadata": {
        "id": "tiO_2qXiejWv"
      },
      "execution_count": 40,
      "outputs": []
    },
    {
      "cell_type": "code",
      "source": [
        "X.shape"
      ],
      "metadata": {
        "colab": {
          "base_uri": "https://localhost:8080/"
        },
        "id": "FNScU0jBesta",
        "outputId": "9e2bf6a7-7c10-4dde-fb16-d4fce3496eb7"
      },
      "execution_count": 41,
      "outputs": [
        {
          "output_type": "execute_result",
          "data": {
            "text/plain": [
              "(50000, 2500)"
            ]
          },
          "metadata": {},
          "execution_count": 41
        }
      ]
    },
    {
      "cell_type": "code",
      "source": [
        "y = data.iloc[:,-1].values"
      ],
      "metadata": {
        "id": "r9YiHoTqfjD8"
      },
      "execution_count": 42,
      "outputs": []
    },
    {
      "cell_type": "code",
      "source": [
        "y.shape"
      ],
      "metadata": {
        "colab": {
          "base_uri": "https://localhost:8080/"
        },
        "id": "tuwdKIm4fuw0",
        "outputId": "cb889829-b742-4b19-ea56-8b4108e20522"
      },
      "execution_count": 43,
      "outputs": [
        {
          "output_type": "execute_result",
          "data": {
            "text/plain": [
              "(50000,)"
            ]
          },
          "metadata": {},
          "execution_count": 43
        }
      ]
    },
    {
      "cell_type": "code",
      "source": [
        "from sklearn.model_selection import train_test_split "
      ],
      "metadata": {
        "id": "clynAaSSf0En"
      },
      "execution_count": 44,
      "outputs": []
    },
    {
      "cell_type": "code",
      "source": [
        "X_train, X_test, y_train, y_test = train_test_split(X, y, test_size = 0.2, random_state=0)"
      ],
      "metadata": {
        "id": "zPc4xh8fgA4M"
      },
      "execution_count": 45,
      "outputs": []
    },
    {
      "cell_type": "code",
      "source": [
        "from sklearn.naive_bayes import MultinomialNB"
      ],
      "metadata": {
        "id": "ssvVvcBXgBI2"
      },
      "execution_count": 46,
      "outputs": []
    },
    {
      "cell_type": "code",
      "source": [
        "review_detect_model = MultinomialNB().fit(X_train, y_train)"
      ],
      "metadata": {
        "id": "u1Kcp5BlgDKv"
      },
      "execution_count": 47,
      "outputs": []
    },
    {
      "cell_type": "code",
      "source": [
        "y_pred = review_detect_model.predict(X_test)"
      ],
      "metadata": {
        "id": "BVqkxjJtgG87"
      },
      "execution_count": 48,
      "outputs": []
    },
    {
      "cell_type": "code",
      "source": [
        "from sklearn.metrics import accuracy_score, classification_report"
      ],
      "metadata": {
        "id": "kI2olqz6gNxD"
      },
      "execution_count": 49,
      "outputs": []
    },
    {
      "cell_type": "code",
      "source": [
        "score=accuracy_score(y_test,y_pred)"
      ],
      "metadata": {
        "id": "4z8lV4BugQFV"
      },
      "execution_count": 50,
      "outputs": []
    },
    {
      "cell_type": "code",
      "source": [
        "print(score)"
      ],
      "metadata": {
        "colab": {
          "base_uri": "https://localhost:8080/"
        },
        "id": "vqcPfdSCgRiK",
        "outputId": "3e4ac35c-0246-4446-abb0-1e0e7c2f9de3"
      },
      "execution_count": 51,
      "outputs": [
        {
          "output_type": "stream",
          "name": "stdout",
          "text": [
            "0.8393\n"
          ]
        }
      ]
    },
    {
      "cell_type": "code",
      "source": [
        "print(classification_report(y_pred, y_test))"
      ],
      "metadata": {
        "colab": {
          "base_uri": "https://localhost:8080/"
        },
        "id": "30JPC_GDgS8r",
        "outputId": "8ceb899e-a453-468f-865a-86386d22e9be"
      },
      "execution_count": 52,
      "outputs": [
        {
          "output_type": "stream",
          "name": "stdout",
          "text": [
            "              precision    recall  f1-score   support\n",
            "\n",
            "    negative       0.84      0.84      0.84      5006\n",
            "    positive       0.84      0.84      0.84      4994\n",
            "\n",
            "    accuracy                           0.84     10000\n",
            "   macro avg       0.84      0.84      0.84     10000\n",
            "weighted avg       0.84      0.84      0.84     10000\n",
            "\n"
          ]
        }
      ]
    },
    {
      "cell_type": "markdown",
      "source": [
        "## Word2Vec"
      ],
      "metadata": {
        "id": "ujrvXqHQikMQ"
      }
    },
    {
      "cell_type": "code",
      "source": [
        "!pip install --upgrade gensim"
      ],
      "metadata": {
        "colab": {
          "base_uri": "https://localhost:8080/"
        },
        "id": "UFS3BwGRgWV0",
        "outputId": "e63c7381-4028-4d76-e5b4-1c7c4dc90a3f"
      },
      "execution_count": 53,
      "outputs": [
        {
          "output_type": "stream",
          "name": "stdout",
          "text": [
            "Looking in indexes: https://pypi.org/simple, https://us-python.pkg.dev/colab-wheels/public/simple/\n",
            "Requirement already satisfied: gensim in /usr/local/lib/python3.7/dist-packages (4.2.0)\n",
            "Requirement already satisfied: smart-open>=1.8.1 in /usr/local/lib/python3.7/dist-packages (from gensim) (5.2.1)\n",
            "Requirement already satisfied: numpy>=1.17.0 in /usr/local/lib/python3.7/dist-packages (from gensim) (1.21.6)\n",
            "Requirement already satisfied: scipy>=0.18.1 in /usr/local/lib/python3.7/dist-packages (from gensim) (1.7.3)\n"
          ]
        }
      ]
    },
    {
      "cell_type": "code",
      "source": [
        "import gensim "
      ],
      "metadata": {
        "id": "F41AfMUyiyOK"
      },
      "execution_count": 54,
      "outputs": []
    },
    {
      "cell_type": "code",
      "source": [
        "from nltk import sent_tokenize \n",
        "from gensim.utils import simple_preprocess "
      ],
      "metadata": {
        "id": "LOGUTA7Bi7iM"
      },
      "execution_count": 55,
      "outputs": []
    },
    {
      "cell_type": "code",
      "source": [
        "nltk.download('punkt')"
      ],
      "metadata": {
        "colab": {
          "base_uri": "https://localhost:8080/"
        },
        "id": "YWX2CZiFjT7j",
        "outputId": "b9845f3e-08d9-4529-825d-7f13a4671288"
      },
      "execution_count": 56,
      "outputs": [
        {
          "output_type": "stream",
          "name": "stderr",
          "text": [
            "[nltk_data] Downloading package punkt to /root/nltk_data...\n",
            "[nltk_data]   Package punkt is already up-to-date!\n"
          ]
        },
        {
          "output_type": "execute_result",
          "data": {
            "text/plain": [
              "True"
            ]
          },
          "metadata": {},
          "execution_count": 56
        }
      ]
    },
    {
      "cell_type": "code",
      "source": [
        "words = []\n",
        "for sent in data['review']:\n",
        "    sent_token = sent_tokenize(sent)\n",
        "    for sent in sent_token:\n",
        "        words.append(simple_preprocess(sent))"
      ],
      "metadata": {
        "id": "_oD0xt8EjKLm"
      },
      "execution_count": 57,
      "outputs": []
    },
    {
      "cell_type": "code",
      "source": [
        "words[0]"
      ],
      "metadata": {
        "colab": {
          "base_uri": "https://localhost:8080/"
        },
        "id": "qcNxGAHrjQ_S",
        "outputId": "de253b16-5869-4e76-8373-97b249ecd7a3"
      },
      "execution_count": 58,
      "outputs": [
        {
          "output_type": "execute_result",
          "data": {
            "text/plain": [
              "['one',\n",
              " 'reviewer',\n",
              " 'mentioned',\n",
              " 'watching',\n",
              " 'oz',\n",
              " 'episode',\n",
              " 'hooked',\n",
              " 'right',\n",
              " 'exactly',\n",
              " 'happened',\n",
              " 'first',\n",
              " 'thing',\n",
              " 'struck',\n",
              " 'oz',\n",
              " 'brutality',\n",
              " 'unflinching',\n",
              " 'scene',\n",
              " 'violence',\n",
              " 'set',\n",
              " 'right',\n",
              " 'word',\n",
              " 'go',\n",
              " 'trust',\n",
              " 'show',\n",
              " 'faint',\n",
              " 'hearted',\n",
              " 'timid',\n",
              " 'show',\n",
              " 'pull',\n",
              " 'punch',\n",
              " 'regard',\n",
              " 'drug',\n",
              " 'sex',\n",
              " 'violence',\n",
              " 'hardcore',\n",
              " 'classic',\n",
              " 'use',\n",
              " 'word',\n",
              " 'called',\n",
              " 'oz',\n",
              " 'nickname',\n",
              " 'given',\n",
              " 'oswald',\n",
              " 'maximum',\n",
              " 'security',\n",
              " 'state',\n",
              " 'penitentary',\n",
              " 'focus',\n",
              " 'mainly',\n",
              " 'emerald',\n",
              " 'city',\n",
              " 'experimental',\n",
              " 'section',\n",
              " 'prison',\n",
              " 'cell',\n",
              " 'glass',\n",
              " 'front',\n",
              " 'face',\n",
              " 'inwards',\n",
              " 'privacy',\n",
              " 'high',\n",
              " 'agenda',\n",
              " 'em',\n",
              " 'city',\n",
              " 'home',\n",
              " 'many',\n",
              " 'aryan',\n",
              " 'muslim',\n",
              " 'gangsta',\n",
              " 'latino',\n",
              " 'christian',\n",
              " 'italian',\n",
              " 'irish',\n",
              " 'scuffle',\n",
              " 'death',\n",
              " 'stare',\n",
              " 'dodgy',\n",
              " 'dealing',\n",
              " 'shady',\n",
              " 'agreement',\n",
              " 'never',\n",
              " 'far',\n",
              " 'away',\n",
              " 'would',\n",
              " 'say',\n",
              " 'main',\n",
              " 'appeal',\n",
              " 'show',\n",
              " 'due',\n",
              " 'fact',\n",
              " 'go',\n",
              " 'show',\n",
              " 'dare',\n",
              " 'forget',\n",
              " 'pretty',\n",
              " 'picture',\n",
              " 'painted',\n",
              " 'mainstream',\n",
              " 'audience',\n",
              " 'forget',\n",
              " 'charm',\n",
              " 'forget',\n",
              " 'romance',\n",
              " 'oz',\n",
              " 'mess',\n",
              " 'around',\n",
              " 'first',\n",
              " 'episode',\n",
              " 'ever',\n",
              " 'saw',\n",
              " 'struck',\n",
              " 'nasty',\n",
              " 'surreal',\n",
              " 'say',\n",
              " 'ready',\n",
              " 'watched',\n",
              " 'developed',\n",
              " 'taste',\n",
              " 'oz',\n",
              " 'got',\n",
              " 'accustomed',\n",
              " 'high',\n",
              " 'level',\n",
              " 'graphic',\n",
              " 'violence',\n",
              " 'violence',\n",
              " 'injustice',\n",
              " 'crooked',\n",
              " 'guard',\n",
              " 'sold',\n",
              " 'nickel',\n",
              " 'inmate',\n",
              " 'kill',\n",
              " 'order',\n",
              " 'get',\n",
              " 'away',\n",
              " 'well',\n",
              " 'mannered',\n",
              " 'middle',\n",
              " 'class',\n",
              " 'inmate',\n",
              " 'turned',\n",
              " 'prison',\n",
              " 'bitch',\n",
              " 'due',\n",
              " 'lack',\n",
              " 'street',\n",
              " 'skill',\n",
              " 'prison',\n",
              " 'experience',\n",
              " 'watching',\n",
              " 'oz',\n",
              " 'may',\n",
              " 'become',\n",
              " 'comfortable',\n",
              " 'uncomfortable',\n",
              " 'viewing',\n",
              " 'thats',\n",
              " 'get',\n",
              " 'touch',\n",
              " 'darker',\n",
              " 'side']"
            ]
          },
          "metadata": {},
          "execution_count": 58
        }
      ]
    },
    {
      "cell_type": "code",
      "source": [
        "model=gensim.models.Word2Vec(words,window=5,min_count=2)"
      ],
      "metadata": {
        "id": "wzNsE_I8jYJU"
      },
      "execution_count": 59,
      "outputs": []
    },
    {
      "cell_type": "code",
      "source": [
        "model.wv.similar_by_word('cell')"
      ],
      "metadata": {
        "colab": {
          "base_uri": "https://localhost:8080/"
        },
        "id": "0iaNR_OwuE6S",
        "outputId": "98090457-42cf-4430-878a-7f1db82b88a0"
      },
      "execution_count": 60,
      "outputs": [
        {
          "output_type": "execute_result",
          "data": {
            "text/plain": [
              "[('locked', 0.6829249262809753),\n",
              " ('infected', 0.635637104511261),\n",
              " ('messaging', 0.6335442066192627),\n",
              " ('repair', 0.6296756863594055),\n",
              " ('attacker', 0.6253407001495361),\n",
              " ('battery', 0.6171389222145081),\n",
              " ('mobile', 0.616234302520752),\n",
              " ('corps', 0.6155630350112915),\n",
              " ('proceed', 0.6152623891830444),\n",
              " ('slit', 0.6152461171150208)]"
            ]
          },
          "metadata": {},
          "execution_count": 60
        }
      ]
    },
    {
      "cell_type": "code",
      "source": [
        "import numpy as np"
      ],
      "metadata": {
        "id": "CrugYsNbuFsQ"
      },
      "execution_count": 61,
      "outputs": []
    },
    {
      "cell_type": "code",
      "source": [
        "def avg_word2vec(doc):\n",
        "    # remove out-of-vocabulary words\n",
        "    #sent = [word for word in doc if word in model.wv.index_to_key]\n",
        "    #print(sent)\n",
        "    \n",
        "    return np.mean([model.wv[word] for word in doc if word in model.wv.index_to_key],axis=0)\n",
        "                #or [np.zeros(len(model.wv.index_to_key))], axis=0)"
      ],
      "metadata": {
        "id": "upbZsSkvudKz"
      },
      "execution_count": 62,
      "outputs": []
    },
    {
      "cell_type": "code",
      "source": [
        "!pip install tqdm"
      ],
      "metadata": {
        "colab": {
          "base_uri": "https://localhost:8080/"
        },
        "id": "IE_s0kRLugbv",
        "outputId": "b2a5ea74-d104-4873-f139-c8b8a5ee0300"
      },
      "execution_count": 63,
      "outputs": [
        {
          "output_type": "stream",
          "name": "stdout",
          "text": [
            "Looking in indexes: https://pypi.org/simple, https://us-python.pkg.dev/colab-wheels/public/simple/\n",
            "Requirement already satisfied: tqdm in /usr/local/lib/python3.7/dist-packages (4.64.1)\n"
          ]
        }
      ]
    },
    {
      "cell_type": "code",
      "source": [
        "from tqdm import tqdm"
      ],
      "metadata": {
        "id": "SjL3S_3IvAuG"
      },
      "execution_count": 64,
      "outputs": []
    },
    {
      "cell_type": "code",
      "source": [
        "X = []\n",
        "for i in tqdm(range(len(words))):\n",
        "    X.append(avg_word2vec(words[i]))"
      ],
      "metadata": {
        "colab": {
          "base_uri": "https://localhost:8080/"
        },
        "id": "lYldC3DSu7XN",
        "outputId": "13bd9d9d-fad2-4231-e2d5-24dc47cfcfd1"
      },
      "execution_count": 65,
      "outputs": [
        {
          "output_type": "stream",
          "name": "stderr",
          "text": [
            "100%|██████████| 50000/50000 [08:17<00:00, 100.54it/s]\n"
          ]
        }
      ]
    },
    {
      "cell_type": "code",
      "source": [
        "X[0].shape"
      ],
      "metadata": {
        "colab": {
          "base_uri": "https://localhost:8080/"
        },
        "id": "I28fy7-Cu_bb",
        "outputId": "729c3bef-346f-42c0-dc21-54a011952b81"
      },
      "execution_count": 67,
      "outputs": [
        {
          "output_type": "execute_result",
          "data": {
            "text/plain": [
              "(100,)"
            ]
          },
          "metadata": {},
          "execution_count": 67
        }
      ]
    },
    {
      "cell_type": "code",
      "source": [
        "X_arr = np.array(X)"
      ],
      "metadata": {
        "id": "xG6di6Or4s9F"
      },
      "execution_count": 69,
      "outputs": []
    },
    {
      "cell_type": "code",
      "source": [
        "type(X_arr)"
      ],
      "metadata": {
        "colab": {
          "base_uri": "https://localhost:8080/"
        },
        "id": "fhSmj5YA5EjS",
        "outputId": "ea832573-a987-4e50-d1c9-98cfee6aceb7"
      },
      "execution_count": 70,
      "outputs": [
        {
          "output_type": "execute_result",
          "data": {
            "text/plain": [
              "numpy.ndarray"
            ]
          },
          "metadata": {},
          "execution_count": 70
        }
      ]
    },
    {
      "cell_type": "code",
      "source": [
        "from sklearn.model_selection import train_test_split "
      ],
      "metadata": {
        "id": "SgOcUhSj5IsG"
      },
      "execution_count": 71,
      "outputs": []
    },
    {
      "cell_type": "code",
      "source": [
        "X_train, X_test , y_train, y_test = train_test_split(X_arr, y, test_size = 0.2, random_state=0)"
      ],
      "metadata": {
        "id": "P_pp5_1p5UIl"
      },
      "execution_count": 72,
      "outputs": []
    },
    {
      "cell_type": "code",
      "source": [
        "from sklearn.naive_bayes import GaussianNB, BernoulliNB"
      ],
      "metadata": {
        "id": "GO4chS-E5ZXB"
      },
      "execution_count": 76,
      "outputs": []
    },
    {
      "cell_type": "code",
      "source": [
        "from sklearn.ensemble import RandomForestClassifier"
      ],
      "metadata": {
        "id": "Gn6C0ujz7Knj"
      },
      "execution_count": 105,
      "outputs": []
    },
    {
      "cell_type": "code",
      "source": [
        "sentiment_detect_model1 = GaussianNB().fit(X_train, y_train)"
      ],
      "metadata": {
        "id": "jIhjQ2m_5c7v"
      },
      "execution_count": 80,
      "outputs": []
    },
    {
      "cell_type": "code",
      "source": [
        "sentiment_detect_model2 = BernoulliNB().fit(X_train, y_train)"
      ],
      "metadata": {
        "id": "iPUIX-Np5iyv"
      },
      "execution_count": 79,
      "outputs": []
    },
    {
      "cell_type": "code",
      "source": [
        "sentiment_detect_model3 = RandomForestClassifier().fit(X_train, y_train)"
      ],
      "metadata": {
        "id": "BWIv4WF67L_S"
      },
      "execution_count": 106,
      "outputs": []
    },
    {
      "cell_type": "code",
      "source": [
        "y_pred1 = sentiment_detect_model1.predict(X_test)"
      ],
      "metadata": {
        "id": "rDLsBoV56E-q"
      },
      "execution_count": 91,
      "outputs": []
    },
    {
      "cell_type": "code",
      "source": [
        "y_pred2 = sentiment_detect_model2.predict(X_test)"
      ],
      "metadata": {
        "id": "6MsdL9Xi6tBC"
      },
      "execution_count": 96,
      "outputs": []
    },
    {
      "cell_type": "code",
      "source": [
        "y_pred3 = sentiment_detect_model3.predict(X_test)"
      ],
      "metadata": {
        "id": "55apEjwv7bDy"
      },
      "execution_count": 110,
      "outputs": []
    },
    {
      "cell_type": "code",
      "source": [
        "socre1=accuracy_score(y_test,y_pred1)"
      ],
      "metadata": {
        "id": "-1Ssftdx6PzM"
      },
      "execution_count": 107,
      "outputs": []
    },
    {
      "cell_type": "code",
      "source": [
        "socre2=accuracy_score(y_test,y_pred2)"
      ],
      "metadata": {
        "id": "jsU04lxC6xsn"
      },
      "execution_count": 108,
      "outputs": []
    },
    {
      "cell_type": "code",
      "source": [
        "socre3=accuracy_score(y_test,y_pred3)"
      ],
      "metadata": {
        "id": "kWaTnm3T7c9J"
      },
      "execution_count": 111,
      "outputs": []
    },
    {
      "cell_type": "code",
      "source": [
        "print(socre1,socre2,socre3)"
      ],
      "metadata": {
        "colab": {
          "base_uri": "https://localhost:8080/"
        },
        "id": "Pr-Us5Wk6SBM",
        "outputId": "54d2d838-75c6-4c82-9f16-4ca7e7f3833c"
      },
      "execution_count": 113,
      "outputs": [
        {
          "output_type": "stream",
          "name": "stdout",
          "text": [
            "0.762 0.7439 0.8341\n"
          ]
        }
      ]
    },
    {
      "cell_type": "code",
      "source": [
        "from sklearn.metrics import classification_report "
      ],
      "metadata": {
        "id": "FZBGrnbM6UGy"
      },
      "execution_count": 114,
      "outputs": []
    },
    {
      "cell_type": "code",
      "source": [
        "print(classification_report(y_pred1,y_test))\n",
        "print(classification_report(y_pred2,y_test))\n",
        "print(classification_report(y_pred3,y_test))"
      ],
      "metadata": {
        "colab": {
          "base_uri": "https://localhost:8080/"
        },
        "id": "lKgwFpqe6Yxo",
        "outputId": "bf101a1a-df1b-4b82-c914-fd76122b6360"
      },
      "execution_count": 115,
      "outputs": [
        {
          "output_type": "stream",
          "name": "stdout",
          "text": [
            "              precision    recall  f1-score   support\n",
            "\n",
            "    negative       0.75      0.77      0.76      4905\n",
            "    positive       0.77      0.75      0.76      5095\n",
            "\n",
            "    accuracy                           0.76     10000\n",
            "   macro avg       0.76      0.76      0.76     10000\n",
            "weighted avg       0.76      0.76      0.76     10000\n",
            "\n",
            "              precision    recall  f1-score   support\n",
            "\n",
            "    negative       0.78      0.73      0.75      5400\n",
            "    positive       0.71      0.76      0.73      4600\n",
            "\n",
            "    accuracy                           0.74     10000\n",
            "   macro avg       0.74      0.75      0.74     10000\n",
            "weighted avg       0.75      0.74      0.74     10000\n",
            "\n",
            "              precision    recall  f1-score   support\n",
            "\n",
            "    negative       0.82      0.85      0.83      4880\n",
            "    positive       0.85      0.82      0.84      5120\n",
            "\n",
            "    accuracy                           0.83     10000\n",
            "   macro avg       0.83      0.83      0.83     10000\n",
            "weighted avg       0.83      0.83      0.83     10000\n",
            "\n"
          ]
        }
      ]
    },
    {
      "cell_type": "code",
      "source": [],
      "metadata": {
        "id": "h1usnjGL6aX8"
      },
      "execution_count": null,
      "outputs": []
    }
  ]
}
