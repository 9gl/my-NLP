{
  "nbformat": 4,
  "nbformat_minor": 0,
  "metadata": {
    "colab": {
      "provenance": []
    },
    "kernelspec": {
      "name": "python3",
      "display_name": "Python 3"
    },
    "language_info": {
      "name": "python"
    }
  },
  "cells": [
    {
      "cell_type": "code",
      "source": [
        "%autosave 5"
      ],
      "metadata": {
        "colab": {
          "base_uri": "https://localhost:8080/",
          "height": 34
        },
        "id": "gNw1c01q3d74",
        "outputId": "3fd4c0a5-e3b7-41fa-cb15-dbb0a33d4e32"
      },
      "execution_count": 3,
      "outputs": [
        {
          "output_type": "display_data",
          "data": {
            "application/javascript": [
              "IPython.notebook.set_autosave_interval(5000)"
            ]
          },
          "metadata": {}
        },
        {
          "output_type": "stream",
          "name": "stdout",
          "text": [
            "Autosaving every 5 seconds\n"
          ]
        }
      ]
    },
    {
      "cell_type": "code",
      "source": [
        "!pip install nltk"
      ],
      "metadata": {
        "colab": {
          "base_uri": "https://localhost:8080/"
        },
        "id": "_iZagL7s4ERm",
        "outputId": "f0475c0d-03a0-4a38-b340-b55d7255d6f8"
      },
      "execution_count": 4,
      "outputs": [
        {
          "output_type": "stream",
          "name": "stdout",
          "text": [
            "Looking in indexes: https://pypi.org/simple, https://us-python.pkg.dev/colab-wheels/public/simple/\n",
            "Requirement already satisfied: nltk in /usr/local/lib/python3.7/dist-packages (3.7)\n",
            "Requirement already satisfied: tqdm in /usr/local/lib/python3.7/dist-packages (from nltk) (4.64.0)\n",
            "Requirement already satisfied: click in /usr/local/lib/python3.7/dist-packages (from nltk) (7.1.2)\n",
            "Requirement already satisfied: joblib in /usr/local/lib/python3.7/dist-packages (from nltk) (1.1.0)\n",
            "Requirement already satisfied: regex>=2021.8.3 in /usr/local/lib/python3.7/dist-packages (from nltk) (2022.6.2)\n"
          ]
        }
      ]
    },
    {
      "cell_type": "code",
      "source": [
        "paragraph = \"\"\"Narendra Damodardas Modi (Gujarati: [ˈnəɾendɾə dɑmodəɾˈdɑs ˈmodiː] (listen); born 17 September 1950)[b] is an Indian politician serving as the 14th and current prime minister of India since 2014. Modi was the chief minister of Gujarat from 2001 to 2014 and is the Member of Parliament from Varanasi. He is a member of the Bharatiya Janata Party (BJP) and of the Rashtriya Swayamsevak Sangh (RSS), a right-wing Hindu nationalist paramilitary volunteer organisation. He is the first prime minister to have been born after India's independence in 1947 and the longest serving prime minister from outside the Indian National Congress.\n",
        "Modi was born and raised in Vadnagar in northeastern Gujarat, where he completed his secondary education. He was introduced to the RSS at age eight. He has discussed having to work as a child in his father's tea stall in the Vadnagar railway station, which has not been reliably corroborated. At age 18, Modi was married to Jashodaben Chimanlal Modi, whom he abandoned soon after. He first publicly acknowledged her as his wife more than four decades later when required to do so by Indian law, but has made no contact with her since. Modi has asserted he had travelled in northern India for two years after leaving his parental home, visiting a number of religious centres, but few details of his travels have emerged. Upon his return to Gujarat in 1971, he became a full-time worker for the RSS. After the state of emergency was declared by prime minister Indira Gandhi in 1975, Modi went into hiding. The RSS assigned him to the BJP in 1985 and he held several positions within the party hierarchy until 2001, rising to the rank of general secretary.[c]\n",
        "Modi was appointed Chief Minister of Gujarat in 2001 due to Keshubhai Patel's failing health and poor public image following the earthquake in Bhuj. Modi was elected to the legislative assembly soon after. His administration has been considered complicit in the 2002 Gujarat riots in which 1044 people were killed, three-quarters of whom were Muslim,[d] or otherwise criticised for its management of the crisis. A Special Investigation Team appointed by the Supreme Court of India found no evidence to initiate prosecution proceedings against Modi personally.[e] While his policies as chief minister—credited with encouraging economic growth—have received praise, his administration was criticised for failing to significantly improve health, poverty and education indices in the state.[f] \"\"\""
      ],
      "metadata": {
        "id": "u6IRbyfP4HZ3"
      },
      "execution_count": 5,
      "outputs": []
    },
    {
      "cell_type": "code",
      "source": [
        "paragraph"
      ],
      "metadata": {
        "colab": {
          "base_uri": "https://localhost:8080/",
          "height": 261
        },
        "id": "eJvN8Ge64IyC",
        "outputId": "2cb3c7e0-fbaf-4ff5-b07a-f76902a0a3f2"
      },
      "execution_count": 6,
      "outputs": [
        {
          "output_type": "execute_result",
          "data": {
            "text/plain": [
              "\"Narendra Damodardas Modi (Gujarati: [ˈnəɾendɾə dɑmodəɾˈdɑs ˈmodiː] (listen); born 17 September 1950)[b] is an Indian politician serving as the 14th and current prime minister of India since 2014. Modi was the chief minister of Gujarat from 2001 to 2014 and is the Member of Parliament from Varanasi. He is a member of the Bharatiya Janata Party (BJP) and of the Rashtriya Swayamsevak Sangh (RSS), a right-wing Hindu nationalist paramilitary volunteer organisation. He is the first prime minister to have been born after India's independence in 1947 and the longest serving prime minister from outside the Indian National Congress.\\nModi was born and raised in Vadnagar in northeastern Gujarat, where he completed his secondary education. He was introduced to the RSS at age eight. He has discussed having to work as a child in his father's tea stall in the Vadnagar railway station, which has not been reliably corroborated. At age 18, Modi was married to Jashodaben Chimanlal Modi, whom he abandoned soon after. He first publicly acknowledged her as his wife more than four decades later when required to do so by Indian law, but has made no contact with her since. Modi has asserted he had travelled in northern India for two years after leaving his parental home, visiting a number of religious centres, but few details of his travels have emerged. Upon his return to Gujarat in 1971, he became a full-time worker for the RSS. After the state of emergency was declared by prime minister Indira Gandhi in 1975, Modi went into hiding. The RSS assigned him to the BJP in 1985 and he held several positions within the party hierarchy until 2001, rising to the rank of general secretary.[c]\\nModi was appointed Chief Minister of Gujarat in 2001 due to Keshubhai Patel's failing health and poor public image following the earthquake in Bhuj. Modi was elected to the legislative assembly soon after. His administration has been considered complicit in the 2002 Gujarat riots in which 1044 people were killed, three-quarters of whom were Muslim,[d] or otherwise criticised for its management of the crisis. A Special Investigation Team appointed by the Supreme Court of India found no evidence to initiate prosecution proceedings against Modi personally.[e] While his policies as chief minister—credited with encouraging economic growth—have received praise, his administration was criticised for failing to significantly improve health, poverty and education indices in the state.[f] \""
            ],
            "application/vnd.google.colaboratory.intrinsic+json": {
              "type": "string"
            }
          },
          "metadata": {},
          "execution_count": 6
        }
      ]
    },
    {
      "cell_type": "code",
      "source": [
        "import nltk \n",
        "from nltk.stem import PorterStemmer \n",
        "from nltk.corpus import stopwords"
      ],
      "metadata": {
        "id": "qbvYi4Ta4SUc"
      },
      "execution_count": 7,
      "outputs": []
    },
    {
      "cell_type": "code",
      "source": [
        "nltk.download('punkt')"
      ],
      "metadata": {
        "colab": {
          "base_uri": "https://localhost:8080/"
        },
        "id": "iZPNbs3d4lzo",
        "outputId": "cb17a86d-bb49-417c-ae47-8e573c778ab9"
      },
      "execution_count": 8,
      "outputs": [
        {
          "output_type": "stream",
          "name": "stderr",
          "text": [
            "[nltk_data] Downloading package punkt to /root/nltk_data...\n",
            "[nltk_data]   Unzipping tokenizers/punkt.zip.\n"
          ]
        },
        {
          "output_type": "execute_result",
          "data": {
            "text/plain": [
              "True"
            ]
          },
          "metadata": {},
          "execution_count": 8
        }
      ]
    },
    {
      "cell_type": "code",
      "source": [
        "sentences = nltk.sent_tokenize(paragraph)"
      ],
      "metadata": {
        "id": "Xe0ca-zo4Z-Y"
      },
      "execution_count": 9,
      "outputs": []
    },
    {
      "cell_type": "code",
      "source": [
        "sentences"
      ],
      "metadata": {
        "colab": {
          "base_uri": "https://localhost:8080/"
        },
        "id": "3x70PQMt4isP",
        "outputId": "5bfd8f56-0a8b-4766-8e04-d4bfa271e1e0"
      },
      "execution_count": 10,
      "outputs": [
        {
          "output_type": "execute_result",
          "data": {
            "text/plain": [
              "['Narendra Damodardas Modi (Gujarati: [ˈnəɾendɾə dɑmodəɾˈdɑs ˈmodiː] (listen); born 17 September 1950)[b] is an Indian politician serving as the 14th and current prime minister of India since 2014.',\n",
              " 'Modi was the chief minister of Gujarat from 2001 to 2014 and is the Member of Parliament from Varanasi.',\n",
              " 'He is a member of the Bharatiya Janata Party (BJP) and of the Rashtriya Swayamsevak Sangh (RSS), a right-wing Hindu nationalist paramilitary volunteer organisation.',\n",
              " \"He is the first prime minister to have been born after India's independence in 1947 and the longest serving prime minister from outside the Indian National Congress.\",\n",
              " 'Modi was born and raised in Vadnagar in northeastern Gujarat, where he completed his secondary education.',\n",
              " 'He was introduced to the RSS at age eight.',\n",
              " \"He has discussed having to work as a child in his father's tea stall in the Vadnagar railway station, which has not been reliably corroborated.\",\n",
              " 'At age 18, Modi was married to Jashodaben Chimanlal Modi, whom he abandoned soon after.',\n",
              " 'He first publicly acknowledged her as his wife more than four decades later when required to do so by Indian law, but has made no contact with her since.',\n",
              " 'Modi has asserted he had travelled in northern India for two years after leaving his parental home, visiting a number of religious centres, but few details of his travels have emerged.',\n",
              " 'Upon his return to Gujarat in 1971, he became a full-time worker for the RSS.',\n",
              " 'After the state of emergency was declared by prime minister Indira Gandhi in 1975, Modi went into hiding.',\n",
              " 'The RSS assigned him to the BJP in 1985 and he held several positions within the party hierarchy until 2001, rising to the rank of general secretary.',\n",
              " \"[c]\\nModi was appointed Chief Minister of Gujarat in 2001 due to Keshubhai Patel's failing health and poor public image following the earthquake in Bhuj.\",\n",
              " 'Modi was elected to the legislative assembly soon after.',\n",
              " 'His administration has been considered complicit in the 2002 Gujarat riots in which 1044 people were killed, three-quarters of whom were Muslim,[d] or otherwise criticised for its management of the crisis.',\n",
              " 'A Special Investigation Team appointed by the Supreme Court of India found no evidence to initiate prosecution proceedings against Modi personally.',\n",
              " '[e] While his policies as chief minister—credited with encouraging economic growth—have received praise, his administration was criticised for failing to significantly improve health, poverty and education indices in the state.',\n",
              " '[f]']"
            ]
          },
          "metadata": {},
          "execution_count": 10
        }
      ]
    },
    {
      "cell_type": "code",
      "source": [
        "stemmer = PorterStemmer()"
      ],
      "metadata": {
        "id": "t9ad_RNx4qe0"
      },
      "execution_count": 11,
      "outputs": []
    },
    {
      "cell_type": "code",
      "source": [
        "stemmer.stem('significantly')"
      ],
      "metadata": {
        "colab": {
          "base_uri": "https://localhost:8080/",
          "height": 35
        },
        "id": "7SkcgLv04vUG",
        "outputId": "fb9aabf4-956c-4f53-c585-366f771bb52e"
      },
      "execution_count": 12,
      "outputs": [
        {
          "output_type": "execute_result",
          "data": {
            "text/plain": [
              "'significantli'"
            ],
            "application/vnd.google.colaboratory.intrinsic+json": {
              "type": "string"
            }
          },
          "metadata": {},
          "execution_count": 12
        }
      ]
    },
    {
      "cell_type": "code",
      "source": [
        "stemmer.stem('policies')"
      ],
      "metadata": {
        "colab": {
          "base_uri": "https://localhost:8080/",
          "height": 35
        },
        "id": "9fye00U64y3e",
        "outputId": "746e24a1-2010-4b9e-ef70-18001f44924d"
      },
      "execution_count": 13,
      "outputs": [
        {
          "output_type": "execute_result",
          "data": {
            "text/plain": [
              "'polici'"
            ],
            "application/vnd.google.colaboratory.intrinsic+json": {
              "type": "string"
            }
          },
          "metadata": {},
          "execution_count": 13
        }
      ]
    },
    {
      "cell_type": "code",
      "source": [
        "from nltk.stem import WordNetLemmatizer"
      ],
      "metadata": {
        "id": "L03hXWsu418-"
      },
      "execution_count": 14,
      "outputs": []
    },
    {
      "cell_type": "code",
      "source": [
        "nltk.download('omw-1.4')"
      ],
      "metadata": {
        "colab": {
          "base_uri": "https://localhost:8080/"
        },
        "id": "4TVJUVUY5L4K",
        "outputId": "96c853b2-f5d6-4b1a-ab7d-b78600a5fc9f"
      },
      "execution_count": 15,
      "outputs": [
        {
          "output_type": "stream",
          "name": "stderr",
          "text": [
            "[nltk_data] Downloading package omw-1.4 to /root/nltk_data...\n"
          ]
        },
        {
          "output_type": "execute_result",
          "data": {
            "text/plain": [
              "True"
            ]
          },
          "metadata": {},
          "execution_count": 15
        }
      ]
    },
    {
      "cell_type": "code",
      "source": [
        "nltk.download('wordnet')"
      ],
      "metadata": {
        "colab": {
          "base_uri": "https://localhost:8080/"
        },
        "id": "ZCGE8UTU5HjW",
        "outputId": "3421162a-5a0c-410a-eed7-0e4b2d254f35"
      },
      "execution_count": 16,
      "outputs": [
        {
          "output_type": "stream",
          "name": "stderr",
          "text": [
            "[nltk_data] Downloading package wordnet to /root/nltk_data...\n"
          ]
        },
        {
          "output_type": "execute_result",
          "data": {
            "text/plain": [
              "True"
            ]
          },
          "metadata": {},
          "execution_count": 16
        }
      ]
    },
    {
      "cell_type": "code",
      "source": [
        "lemmatizer = WordNetLemmatizer()"
      ],
      "metadata": {
        "id": "rUwR3lVf46wn"
      },
      "execution_count": 17,
      "outputs": []
    },
    {
      "cell_type": "code",
      "source": [
        "lemmatizer.lemmatize('policies')"
      ],
      "metadata": {
        "colab": {
          "base_uri": "https://localhost:8080/",
          "height": 35
        },
        "id": "XbmX4zig4-Eb",
        "outputId": "926f0a5d-a130-4228-b2b3-62b7736d2bba"
      },
      "execution_count": 18,
      "outputs": [
        {
          "output_type": "execute_result",
          "data": {
            "text/plain": [
              "'policy'"
            ],
            "application/vnd.google.colaboratory.intrinsic+json": {
              "type": "string"
            }
          },
          "metadata": {},
          "execution_count": 18
        }
      ]
    },
    {
      "cell_type": "code",
      "source": [
        "lemmatizer.lemmatize('significantly')"
      ],
      "metadata": {
        "colab": {
          "base_uri": "https://localhost:8080/",
          "height": 35
        },
        "id": "KK7twm3t5FYG",
        "outputId": "20dcf220-2e67-4ab0-aa1b-4a1b7177b619"
      },
      "execution_count": 19,
      "outputs": [
        {
          "output_type": "execute_result",
          "data": {
            "text/plain": [
              "'significantly'"
            ],
            "application/vnd.google.colaboratory.intrinsic+json": {
              "type": "string"
            }
          },
          "metadata": {},
          "execution_count": 19
        }
      ]
    },
    {
      "cell_type": "code",
      "source": [
        "sentences"
      ],
      "metadata": {
        "colab": {
          "base_uri": "https://localhost:8080/"
        },
        "id": "HGA37u2Z5VPY",
        "outputId": "a9438275-d0bb-4817-dc0d-19ceacef2591"
      },
      "execution_count": 20,
      "outputs": [
        {
          "output_type": "execute_result",
          "data": {
            "text/plain": [
              "['Narendra Damodardas Modi (Gujarati: [ˈnəɾendɾə dɑmodəɾˈdɑs ˈmodiː] (listen); born 17 September 1950)[b] is an Indian politician serving as the 14th and current prime minister of India since 2014.',\n",
              " 'Modi was the chief minister of Gujarat from 2001 to 2014 and is the Member of Parliament from Varanasi.',\n",
              " 'He is a member of the Bharatiya Janata Party (BJP) and of the Rashtriya Swayamsevak Sangh (RSS), a right-wing Hindu nationalist paramilitary volunteer organisation.',\n",
              " \"He is the first prime minister to have been born after India's independence in 1947 and the longest serving prime minister from outside the Indian National Congress.\",\n",
              " 'Modi was born and raised in Vadnagar in northeastern Gujarat, where he completed his secondary education.',\n",
              " 'He was introduced to the RSS at age eight.',\n",
              " \"He has discussed having to work as a child in his father's tea stall in the Vadnagar railway station, which has not been reliably corroborated.\",\n",
              " 'At age 18, Modi was married to Jashodaben Chimanlal Modi, whom he abandoned soon after.',\n",
              " 'He first publicly acknowledged her as his wife more than four decades later when required to do so by Indian law, but has made no contact with her since.',\n",
              " 'Modi has asserted he had travelled in northern India for two years after leaving his parental home, visiting a number of religious centres, but few details of his travels have emerged.',\n",
              " 'Upon his return to Gujarat in 1971, he became a full-time worker for the RSS.',\n",
              " 'After the state of emergency was declared by prime minister Indira Gandhi in 1975, Modi went into hiding.',\n",
              " 'The RSS assigned him to the BJP in 1985 and he held several positions within the party hierarchy until 2001, rising to the rank of general secretary.',\n",
              " \"[c]\\nModi was appointed Chief Minister of Gujarat in 2001 due to Keshubhai Patel's failing health and poor public image following the earthquake in Bhuj.\",\n",
              " 'Modi was elected to the legislative assembly soon after.',\n",
              " 'His administration has been considered complicit in the 2002 Gujarat riots in which 1044 people were killed, three-quarters of whom were Muslim,[d] or otherwise criticised for its management of the crisis.',\n",
              " 'A Special Investigation Team appointed by the Supreme Court of India found no evidence to initiate prosecution proceedings against Modi personally.',\n",
              " '[e] While his policies as chief minister—credited with encouraging economic growth—have received praise, his administration was criticised for failing to significantly improve health, poverty and education indices in the state.',\n",
              " '[f]']"
            ]
          },
          "metadata": {},
          "execution_count": 20
        }
      ]
    },
    {
      "cell_type": "code",
      "source": [
        "nltk.download('stopwords')"
      ],
      "metadata": {
        "colab": {
          "base_uri": "https://localhost:8080/"
        },
        "id": "a-PI1_-p6skL",
        "outputId": "82d9f328-7d1e-4553-a97c-ed41a8074d44"
      },
      "execution_count": 21,
      "outputs": [
        {
          "output_type": "stream",
          "name": "stderr",
          "text": [
            "[nltk_data] Downloading package stopwords to /root/nltk_data...\n",
            "[nltk_data]   Unzipping corpora/stopwords.zip.\n"
          ]
        },
        {
          "output_type": "execute_result",
          "data": {
            "text/plain": [
              "True"
            ]
          },
          "metadata": {},
          "execution_count": 21
        }
      ]
    },
    {
      "cell_type": "code",
      "source": [
        "import re"
      ],
      "metadata": {
        "id": "XokA8RzH58ID"
      },
      "execution_count": 22,
      "outputs": []
    },
    {
      "cell_type": "code",
      "source": [
        "corpus = []\n",
        "for sentence in sentences:\n",
        "    review = re.sub('[^a-zA-Z]', ' ', sentence)\n",
        "    review = review.lower()\n",
        "    review = review.split()\n",
        "    review = [lemmatizer.lemmatize(word) for word in review if not word in set(stopwords.words('english'))]\n",
        "    review = ' '.join(review)\n",
        "    corpus.append(review)"
      ],
      "metadata": {
        "id": "XJfu8JJ65cxX"
      },
      "execution_count": 23,
      "outputs": []
    },
    {
      "cell_type": "code",
      "source": [
        "corpus"
      ],
      "metadata": {
        "colab": {
          "base_uri": "https://localhost:8080/"
        },
        "id": "nvWb8oTC6prz",
        "outputId": "942ab494-ee76-4b7f-cd1e-195d760dd391"
      },
      "execution_count": 24,
      "outputs": [
        {
          "output_type": "execute_result",
          "data": {
            "text/plain": [
              "['narendra damodardas modi gujarati n end mod modi listen born september b indian politician serving th current prime minister india since',\n",
              " 'modi chief minister gujarat member parliament varanasi',\n",
              " 'member bharatiya janata party bjp rashtriya swayamsevak sangh r right wing hindu nationalist paramilitary volunteer organisation',\n",
              " 'first prime minister born india independence longest serving prime minister outside indian national congress',\n",
              " 'modi born raised vadnagar northeastern gujarat completed secondary education',\n",
              " 'introduced r age eight',\n",
              " 'discussed work child father tea stall vadnagar railway station reliably corroborated',\n",
              " 'age modi married jashodaben chimanlal modi abandoned soon',\n",
              " 'first publicly acknowledged wife four decade later required indian law made contact since',\n",
              " 'modi asserted travelled northern india two year leaving parental home visiting number religious centre detail travel emerged',\n",
              " 'upon return gujarat became full time worker r',\n",
              " 'state emergency declared prime minister indira gandhi modi went hiding',\n",
              " 'r assigned bjp held several position within party hierarchy rising rank general secretary',\n",
              " 'c modi appointed chief minister gujarat due keshubhai patel failing health poor public image following earthquake bhuj',\n",
              " 'modi elected legislative assembly soon',\n",
              " 'administration considered complicit gujarat riot people killed three quarter muslim otherwise criticised management crisis',\n",
              " 'special investigation team appointed supreme court india found evidence initiate prosecution proceeding modi personally',\n",
              " 'e policy chief minister credited encouraging economic growth received praise administration criticised failing significantly improve health poverty education index state',\n",
              " 'f']"
            ]
          },
          "metadata": {},
          "execution_count": 24
        }
      ]
    },
    {
      "cell_type": "code",
      "source": [
        "from sklearn.feature_extraction.text import CountVectorizer \n",
        "cv = CountVectorizer(binary=True, ngram_range=(2,3))"
      ],
      "metadata": {
        "id": "_ibYxrYW6w0c"
      },
      "execution_count": 25,
      "outputs": []
    },
    {
      "cell_type": "code",
      "source": [
        "X = cv.fit_transform(corpus)"
      ],
      "metadata": {
        "id": "dKChomVe8_rJ"
      },
      "execution_count": 26,
      "outputs": []
    },
    {
      "cell_type": "code",
      "source": [
        "cv.vocabulary_"
      ],
      "metadata": {
        "colab": {
          "base_uri": "https://localhost:8080/"
        },
        "id": "1Wbxkqrh9ECP",
        "outputId": "cb3d8167-e8ee-4351-c723-899d7a0ae23c"
      },
      "execution_count": 28,
      "outputs": [
        {
          "output_type": "execute_result",
          "data": {
            "text/plain": [
              "{'narendra damodardas': 228,\n",
              " 'damodardas modi': 59,\n",
              " 'modi gujarati': 217,\n",
              " 'gujarati end': 119,\n",
              " 'end mod': 82,\n",
              " 'mod modi': 203,\n",
              " 'modi listen': 219,\n",
              " 'listen born': 177,\n",
              " 'born september': 31,\n",
              " 'september indian': 309,\n",
              " 'indian politician': 151,\n",
              " 'politician serving': 258,\n",
              " 'serving th': 313,\n",
              " 'th current': 335,\n",
              " 'current prime': 57,\n",
              " 'prime minister': 268,\n",
              " 'minister india': 197,\n",
              " 'india since': 144,\n",
              " 'narendra damodardas modi': 229,\n",
              " 'damodardas modi gujarati': 60,\n",
              " 'modi gujarati end': 218,\n",
              " 'gujarati end mod': 120,\n",
              " 'end mod modi': 83,\n",
              " 'mod modi listen': 204,\n",
              " 'modi listen born': 220,\n",
              " 'listen born september': 178,\n",
              " 'born september indian': 32,\n",
              " 'september indian politician': 310,\n",
              " 'indian politician serving': 152,\n",
              " 'politician serving th': 259,\n",
              " 'serving th current': 314,\n",
              " 'th current prime': 336,\n",
              " 'current prime minister': 58,\n",
              " 'prime minister india': 270,\n",
              " 'minister india since': 198,\n",
              " 'modi chief': 213,\n",
              " 'chief minister': 35,\n",
              " 'minister gujarat': 194,\n",
              " 'gujarat member': 115,\n",
              " 'member parliament': 188,\n",
              " 'parliament varanasi': 247,\n",
              " 'modi chief minister': 214,\n",
              " 'chief minister gujarat': 37,\n",
              " 'minister gujarat member': 196,\n",
              " 'gujarat member parliament': 116,\n",
              " 'member parliament varanasi': 189,\n",
              " 'member bharatiya': 186,\n",
              " 'bharatiya janata': 21,\n",
              " 'janata party': 161,\n",
              " 'party bjp': 248,\n",
              " 'bjp rashtriya': 25,\n",
              " 'rashtriya swayamsevak': 289,\n",
              " 'swayamsevak sangh': 329,\n",
              " 'sangh right': 306,\n",
              " 'right wing': 300,\n",
              " 'wing hindu': 357,\n",
              " 'hindu nationalist': 129,\n",
              " 'nationalist paramilitary': 231,\n",
              " 'paramilitary volunteer': 243,\n",
              " 'volunteer organisation': 353,\n",
              " 'member bharatiya janata': 187,\n",
              " 'bharatiya janata party': 22,\n",
              " 'janata party bjp': 162,\n",
              " 'party bjp rashtriya': 249,\n",
              " 'bjp rashtriya swayamsevak': 26,\n",
              " 'rashtriya swayamsevak sangh': 290,\n",
              " 'swayamsevak sangh right': 330,\n",
              " 'sangh right wing': 307,\n",
              " 'right wing hindu': 301,\n",
              " 'wing hindu nationalist': 358,\n",
              " 'hindu nationalist paramilitary': 130,\n",
              " 'nationalist paramilitary volunteer': 232,\n",
              " 'paramilitary volunteer organisation': 244,\n",
              " 'first prime': 92,\n",
              " 'minister born': 190,\n",
              " 'born india': 27,\n",
              " 'india independence': 142,\n",
              " 'independence longest': 137,\n",
              " 'longest serving': 179,\n",
              " 'serving prime': 311,\n",
              " 'minister outside': 201,\n",
              " 'outside indian': 241,\n",
              " 'indian national': 149,\n",
              " 'national congress': 230,\n",
              " 'first prime minister': 93,\n",
              " 'prime minister born': 269,\n",
              " 'minister born india': 191,\n",
              " 'born india independence': 28,\n",
              " 'india independence longest': 143,\n",
              " 'independence longest serving': 138,\n",
              " 'longest serving prime': 180,\n",
              " 'serving prime minister': 312,\n",
              " 'prime minister outside': 272,\n",
              " 'minister outside indian': 202,\n",
              " 'outside indian national': 242,\n",
              " 'indian national congress': 150,\n",
              " 'modi born': 211,\n",
              " 'born raised': 29,\n",
              " 'raised vadnagar': 285,\n",
              " 'vadnagar northeastern': 347,\n",
              " 'northeastern gujarat': 233,\n",
              " 'gujarat completed': 111,\n",
              " 'completed secondary': 42,\n",
              " 'secondary education': 308,\n",
              " 'modi born raised': 212,\n",
              " 'born raised vadnagar': 30,\n",
              " 'raised vadnagar northeastern': 286,\n",
              " 'vadnagar northeastern gujarat': 348,\n",
              " 'northeastern gujarat completed': 234,\n",
              " 'gujarat completed secondary': 112,\n",
              " 'completed secondary education': 43,\n",
              " 'introduced age': 157,\n",
              " 'age eight': 7,\n",
              " 'introduced age eight': 158,\n",
              " 'discussed work': 67,\n",
              " 'work child': 361,\n",
              " 'child father': 38,\n",
              " 'father tea': 90,\n",
              " 'tea stall': 331,\n",
              " 'stall vadnagar': 321,\n",
              " 'vadnagar railway': 349,\n",
              " 'railway station': 283,\n",
              " 'station reliably': 325,\n",
              " 'reliably corroborated': 293,\n",
              " 'discussed work child': 68,\n",
              " 'work child father': 362,\n",
              " 'child father tea': 39,\n",
              " 'father tea stall': 91,\n",
              " 'tea stall vadnagar': 332,\n",
              " 'stall vadnagar railway': 322,\n",
              " 'vadnagar railway station': 350,\n",
              " 'railway station reliably': 284,\n",
              " 'station reliably corroborated': 326,\n",
              " 'age modi': 8,\n",
              " 'modi married': 221,\n",
              " 'married jashodaben': 184,\n",
              " 'jashodaben chimanlal': 163,\n",
              " 'chimanlal modi': 40,\n",
              " 'modi abandoned': 205,\n",
              " 'abandoned soon': 0,\n",
              " 'age modi married': 9,\n",
              " 'modi married jashodaben': 222,\n",
              " 'married jashodaben chimanlal': 185,\n",
              " 'jashodaben chimanlal modi': 164,\n",
              " 'chimanlal modi abandoned': 41,\n",
              " 'modi abandoned soon': 206,\n",
              " 'first publicly': 94,\n",
              " 'publicly acknowledged': 279,\n",
              " 'acknowledged wife': 1,\n",
              " 'wife four': 355,\n",
              " 'four decade': 100,\n",
              " 'decade later': 61,\n",
              " 'later required': 169,\n",
              " 'required indian': 296,\n",
              " 'indian law': 147,\n",
              " 'law made': 171,\n",
              " 'made contact': 181,\n",
              " 'contact since': 48,\n",
              " 'first publicly acknowledged': 95,\n",
              " 'publicly acknowledged wife': 280,\n",
              " 'acknowledged wife four': 2,\n",
              " 'wife four decade': 356,\n",
              " 'four decade later': 101,\n",
              " 'decade later required': 62,\n",
              " 'later required indian': 170,\n",
              " 'required indian law': 297,\n",
              " 'indian law made': 148,\n",
              " 'law made contact': 172,\n",
              " 'made contact since': 182,\n",
              " 'modi asserted': 209,\n",
              " 'asserted travelled': 15,\n",
              " 'travelled northern': 341,\n",
              " 'northern india': 235,\n",
              " 'india two': 145,\n",
              " 'two year': 343,\n",
              " 'year leaving': 363,\n",
              " 'leaving parental': 173,\n",
              " 'parental home': 245,\n",
              " 'home visiting': 131,\n",
              " 'visiting number': 351,\n",
              " 'number religious': 237,\n",
              " 'religious centre': 294,\n",
              " 'centre detail': 33,\n",
              " 'detail travel': 65,\n",
              " 'travel emerged': 340,\n",
              " 'modi asserted travelled': 210,\n",
              " 'asserted travelled northern': 16,\n",
              " 'travelled northern india': 342,\n",
              " 'northern india two': 236,\n",
              " 'india two year': 146,\n",
              " 'two year leaving': 344,\n",
              " 'year leaving parental': 364,\n",
              " 'leaving parental home': 174,\n",
              " 'parental home visiting': 246,\n",
              " 'home visiting number': 132,\n",
              " 'visiting number religious': 352,\n",
              " 'number religious centre': 238,\n",
              " 'religious centre detail': 295,\n",
              " 'centre detail travel': 34,\n",
              " 'detail travel emerged': 66,\n",
              " 'upon return': 345,\n",
              " 'return gujarat': 298,\n",
              " 'gujarat became': 109,\n",
              " 'became full': 19,\n",
              " 'full time': 102,\n",
              " 'time worker': 339,\n",
              " 'upon return gujarat': 346,\n",
              " 'return gujarat became': 299,\n",
              " 'gujarat became full': 110,\n",
              " 'became full time': 20,\n",
              " 'full time worker': 103,\n",
              " 'state emergency': 323,\n",
              " 'emergency declared': 78,\n",
              " 'declared prime': 63,\n",
              " 'minister indira': 199,\n",
              " 'indira gandhi': 153,\n",
              " 'gandhi modi': 104,\n",
              " 'modi went': 224,\n",
              " 'went hiding': 354,\n",
              " 'state emergency declared': 324,\n",
              " 'emergency declared prime': 79,\n",
              " 'declared prime minister': 64,\n",
              " 'prime minister indira': 271,\n",
              " 'minister indira gandhi': 200,\n",
              " 'indira gandhi modi': 154,\n",
              " 'gandhi modi went': 105,\n",
              " 'modi went hiding': 225,\n",
              " 'assigned bjp': 17,\n",
              " 'bjp held': 23,\n",
              " 'held several': 125,\n",
              " 'several position': 315,\n",
              " 'position within': 262,\n",
              " 'within party': 359,\n",
              " 'party hierarchy': 250,\n",
              " 'hierarchy rising': 127,\n",
              " 'rising rank': 304,\n",
              " 'rank general': 287,\n",
              " 'general secretary': 106,\n",
              " 'assigned bjp held': 18,\n",
              " 'bjp held several': 24,\n",
              " 'held several position': 126,\n",
              " 'several position within': 316,\n",
              " 'position within party': 263,\n",
              " 'within party hierarchy': 360,\n",
              " 'party hierarchy rising': 251,\n",
              " 'hierarchy rising rank': 128,\n",
              " 'rising rank general': 305,\n",
              " 'rank general secretary': 288,\n",
              " 'modi appointed': 207,\n",
              " 'appointed chief': 10,\n",
              " 'gujarat due': 113,\n",
              " 'due keshubhai': 69,\n",
              " 'keshubhai patel': 165,\n",
              " 'patel failing': 252,\n",
              " 'failing health': 86,\n",
              " 'health poor': 121,\n",
              " 'poor public': 260,\n",
              " 'public image': 277,\n",
              " 'image following': 133,\n",
              " 'following earthquake': 96,\n",
              " 'earthquake bhuj': 71,\n",
              " 'modi appointed chief': 208,\n",
              " 'appointed chief minister': 11,\n",
              " 'minister gujarat due': 195,\n",
              " 'gujarat due keshubhai': 114,\n",
              " 'due keshubhai patel': 70,\n",
              " 'keshubhai patel failing': 166,\n",
              " 'patel failing health': 253,\n",
              " 'failing health poor': 87,\n",
              " 'health poor public': 122,\n",
              " 'poor public image': 261,\n",
              " 'public image following': 278,\n",
              " 'image following earthquake': 134,\n",
              " 'following earthquake bhuj': 97,\n",
              " 'modi elected': 215,\n",
              " 'elected legislative': 76,\n",
              " 'legislative assembly': 175,\n",
              " 'assembly soon': 14,\n",
              " 'modi elected legislative': 216,\n",
              " 'elected legislative assembly': 77,\n",
              " 'legislative assembly soon': 176,\n",
              " 'administration considered': 3,\n",
              " 'considered complicit': 46,\n",
              " 'complicit gujarat': 44,\n",
              " 'gujarat riot': 117,\n",
              " 'riot people': 302,\n",
              " 'people killed': 254,\n",
              " 'killed three': 167,\n",
              " 'three quarter': 337,\n",
              " 'quarter muslim': 281,\n",
              " 'muslim otherwise': 226,\n",
              " 'otherwise criticised': 239,\n",
              " 'criticised management': 55,\n",
              " 'management crisis': 183,\n",
              " 'administration considered complicit': 4,\n",
              " 'considered complicit gujarat': 47,\n",
              " 'complicit gujarat riot': 45,\n",
              " 'gujarat riot people': 118,\n",
              " 'riot people killed': 303,\n",
              " 'people killed three': 255,\n",
              " 'killed three quarter': 168,\n",
              " 'three quarter muslim': 338,\n",
              " 'quarter muslim otherwise': 282,\n",
              " 'muslim otherwise criticised': 227,\n",
              " 'otherwise criticised management': 240,\n",
              " 'criticised management crisis': 56,\n",
              " 'special investigation': 319,\n",
              " 'investigation team': 159,\n",
              " 'team appointed': 333,\n",
              " 'appointed supreme': 12,\n",
              " 'supreme court': 327,\n",
              " 'court india': 49,\n",
              " 'india found': 140,\n",
              " 'found evidence': 98,\n",
              " 'evidence initiate': 84,\n",
              " 'initiate prosecution': 155,\n",
              " 'prosecution proceeding': 275,\n",
              " 'proceeding modi': 273,\n",
              " 'modi personally': 223,\n",
              " 'special investigation team': 320,\n",
              " 'investigation team appointed': 160,\n",
              " 'team appointed supreme': 334,\n",
              " 'appointed supreme court': 13,\n",
              " 'supreme court india': 328,\n",
              " 'court india found': 50,\n",
              " 'india found evidence': 141,\n",
              " 'found evidence initiate': 99,\n",
              " 'evidence initiate prosecution': 85,\n",
              " 'initiate prosecution proceeding': 156,\n",
              " 'prosecution proceeding modi': 276,\n",
              " 'proceeding modi personally': 274,\n",
              " 'policy chief': 256,\n",
              " 'minister credited': 192,\n",
              " 'credited encouraging': 51,\n",
              " 'encouraging economic': 80,\n",
              " 'economic growth': 72,\n",
              " 'growth received': 107,\n",
              " 'received praise': 291,\n",
              " 'praise administration': 266,\n",
              " 'administration criticised': 5,\n",
              " 'criticised failing': 53,\n",
              " 'failing significantly': 88,\n",
              " 'significantly improve': 317,\n",
              " 'improve health': 135,\n",
              " 'health poverty': 123,\n",
              " 'poverty education': 264,\n",
              " 'education index': 74,\n",
              " 'index state': 139,\n",
              " 'policy chief minister': 257,\n",
              " 'chief minister credited': 36,\n",
              " 'minister credited encouraging': 193,\n",
              " 'credited encouraging economic': 52,\n",
              " 'encouraging economic growth': 81,\n",
              " 'economic growth received': 73,\n",
              " 'growth received praise': 108,\n",
              " 'received praise administration': 292,\n",
              " 'praise administration criticised': 267,\n",
              " 'administration criticised failing': 6,\n",
              " 'criticised failing significantly': 54,\n",
              " 'failing significantly improve': 89,\n",
              " 'significantly improve health': 318,\n",
              " 'improve health poverty': 136,\n",
              " 'health poverty education': 124,\n",
              " 'poverty education index': 265,\n",
              " 'education index state': 75}"
            ]
          },
          "metadata": {},
          "execution_count": 28
        }
      ]
    },
    {
      "cell_type": "code",
      "source": [
        "corpus[0]"
      ],
      "metadata": {
        "colab": {
          "base_uri": "https://localhost:8080/",
          "height": 53
        },
        "id": "_HBdehu79NUT",
        "outputId": "130f7cb5-f716-41b0-ccc1-81cd4b5e8c22"
      },
      "execution_count": 29,
      "outputs": [
        {
          "output_type": "execute_result",
          "data": {
            "text/plain": [
              "'narendra damodardas modi gujarati n end mod modi listen born september b indian politician serving th current prime minister india since'"
            ],
            "application/vnd.google.colaboratory.intrinsic+json": {
              "type": "string"
            }
          },
          "metadata": {},
          "execution_count": 29
        }
      ]
    },
    {
      "cell_type": "code",
      "source": [
        "X[0].toarray()"
      ],
      "metadata": {
        "colab": {
          "base_uri": "https://localhost:8080/"
        },
        "id": "goBetCrA9SAS",
        "outputId": "e4f5a1f2-150c-4f75-f049-5fc38739a078"
      },
      "execution_count": 30,
      "outputs": [
        {
          "output_type": "execute_result",
          "data": {
            "text/plain": [
              "array([[0, 0, 0, 0, 0, 0, 0, 0, 0, 0, 0, 0, 0, 0, 0, 0, 0, 0, 0, 0, 0, 0,\n",
              "        0, 0, 0, 0, 0, 0, 0, 0, 0, 1, 1, 0, 0, 0, 0, 0, 0, 0, 0, 0, 0, 0,\n",
              "        0, 0, 0, 0, 0, 0, 0, 0, 0, 0, 0, 0, 0, 1, 1, 1, 1, 0, 0, 0, 0, 0,\n",
              "        0, 0, 0, 0, 0, 0, 0, 0, 0, 0, 0, 0, 0, 0, 0, 0, 1, 1, 0, 0, 0, 0,\n",
              "        0, 0, 0, 0, 0, 0, 0, 0, 0, 0, 0, 0, 0, 0, 0, 0, 0, 0, 0, 0, 0, 0,\n",
              "        0, 0, 0, 0, 0, 0, 0, 0, 0, 1, 1, 0, 0, 0, 0, 0, 0, 0, 0, 0, 0, 0,\n",
              "        0, 0, 0, 0, 0, 0, 0, 0, 0, 0, 0, 0, 1, 0, 0, 0, 0, 0, 0, 1, 1, 0,\n",
              "        0, 0, 0, 0, 0, 0, 0, 0, 0, 0, 0, 0, 0, 0, 0, 0, 0, 0, 0, 0, 0, 0,\n",
              "        0, 1, 1, 0, 0, 0, 0, 0, 0, 0, 0, 0, 0, 0, 0, 0, 0, 0, 0, 0, 0, 1,\n",
              "        1, 0, 0, 0, 0, 1, 1, 0, 0, 0, 0, 0, 0, 0, 0, 0, 0, 0, 0, 1, 1, 1,\n",
              "        1, 0, 0, 0, 0, 0, 0, 0, 1, 1, 0, 0, 0, 0, 0, 0, 0, 0, 0, 0, 0, 0,\n",
              "        0, 0, 0, 0, 0, 0, 0, 0, 0, 0, 0, 0, 0, 0, 0, 0, 1, 1, 0, 0, 0, 0,\n",
              "        0, 0, 0, 0, 1, 0, 1, 0, 0, 0, 0, 0, 0, 0, 0, 0, 0, 0, 0, 0, 0, 0,\n",
              "        0, 0, 0, 0, 0, 0, 0, 0, 0, 0, 0, 0, 0, 0, 0, 0, 0, 0, 0, 0, 0, 0,\n",
              "        0, 1, 1, 0, 0, 1, 1, 0, 0, 0, 0, 0, 0, 0, 0, 0, 0, 0, 0, 0, 0, 0,\n",
              "        0, 0, 0, 0, 0, 1, 1, 0, 0, 0, 0, 0, 0, 0, 0, 0, 0, 0, 0, 0, 0, 0,\n",
              "        0, 0, 0, 0, 0, 0, 0, 0, 0, 0, 0, 0, 0]])"
            ]
          },
          "metadata": {},
          "execution_count": 30
        }
      ]
    },
    {
      "cell_type": "code",
      "source": [
        "# TF-IDF \n",
        "from sklearn.feature_extraction.text import TfidfVectorizer"
      ],
      "metadata": {
        "id": "69A5Fim59TrE"
      },
      "execution_count": 31,
      "outputs": []
    },
    {
      "cell_type": "code",
      "source": [
        "cv = TfidfVectorizer(ngram_range=(1,1), max_features = 10)"
      ],
      "metadata": {
        "id": "a8LRu4IE9czr"
      },
      "execution_count": 41,
      "outputs": []
    },
    {
      "cell_type": "code",
      "source": [
        "X = cv.fit_transform(corpus)"
      ],
      "metadata": {
        "id": "7m6MooKk9j6x"
      },
      "execution_count": 42,
      "outputs": []
    },
    {
      "cell_type": "code",
      "source": [
        "corpus[0]"
      ],
      "metadata": {
        "colab": {
          "base_uri": "https://localhost:8080/",
          "height": 53
        },
        "id": "wcOqd-Cz9soa",
        "outputId": "c866970a-e0f0-4943-b58f-e8bbf1daa68c"
      },
      "execution_count": 43,
      "outputs": [
        {
          "output_type": "execute_result",
          "data": {
            "text/plain": [
              "'narendra damodardas modi gujarati n end mod modi listen born september b indian politician serving th current prime minister india since'"
            ],
            "application/vnd.google.colaboratory.intrinsic+json": {
              "type": "string"
            }
          },
          "metadata": {},
          "execution_count": 43
        }
      ]
    },
    {
      "cell_type": "code",
      "source": [
        "X[0].toarray()"
      ],
      "metadata": {
        "colab": {
          "base_uri": "https://localhost:8080/"
        },
        "id": "e6noWcw19uE4",
        "outputId": "b373872b-d806-4173-9b92-6bba5fa194f8"
      },
      "execution_count": 44,
      "outputs": [
        {
          "output_type": "execute_result",
          "data": {
            "text/plain": [
              "array([[0.40365223, 0.        , 0.        , 0.        , 0.3691343 ,\n",
              "        0.40365223, 0.31708563, 0.52382364, 0.40365223, 0.        ]])"
            ]
          },
          "metadata": {},
          "execution_count": 44
        }
      ]
    },
    {
      "cell_type": "markdown",
      "source": [
        "#Partice "
      ],
      "metadata": {
        "id": "Is9N_N16-t4b"
      }
    },
    {
      "cell_type": "code",
      "source": [
        "paragraph = \"\"\"\n",
        "Ratan Naval Tata (Ratan Ṭāṭā, born 28 December 1937) is an Indian industrialist, philanthropist, and a former chairman of Tata Sons. He was the chairman of Tata Group, from 1990 to 2012, and again, as interim chairman, from October 2016 through February 2017, and continues to head its charitable trusts.[2][3] He is the recipient of two civilian awards of India, the Padma Vibhushan (2008), the second highest civilian honour, and the Padma Bhushan (2000), the third highest civilian honour.[4]\n",
        "Born in 1937, he is an heir of the Tata family, and son of Naval Tata who was later adopted by Ratanji Tata, son of Jamsetji Tata, the founder of Tata Group. He is an alumnus of the Cornell University College of Architecture and Harvard Business School through the Advanced Management Program that he completed in 1975.[5] He joined his company in 1961 when he used to work on the shop floor of Tata Steel, and was the apparent successor to J. R. D. Tata upon the latter's retirement in 1991. He got Tata Tea to acquire Tetley, Tata Motors to acquire Jaguar Land Rover, and Tata Steel to acquire Corus, in an attempt to turn Tata from a largely India-centrist group into a global business. Around 60-65% of his profits are donated to charity making him one of the most significant philanthropists in the world. \n",
        "\"\"\""
      ],
      "metadata": {
        "id": "02YTO6p5_qEP"
      },
      "execution_count": 55,
      "outputs": []
    },
    {
      "cell_type": "code",
      "source": [
        "paragraph"
      ],
      "metadata": {
        "colab": {
          "base_uri": "https://localhost:8080/",
          "height": 261
        },
        "id": "PI7XNjsU_xHx",
        "outputId": "2f310097-680c-4a5c-bc34-867e6d437dc7"
      },
      "execution_count": 56,
      "outputs": [
        {
          "output_type": "execute_result",
          "data": {
            "text/plain": [
              "\"\\nRatan Naval Tata (Ratan Ṭāṭā, born 28 December 1937) is an Indian industrialist, philanthropist, and a former chairman of Tata Sons. He was the chairman of Tata Group, from 1990 to 2012, and again, as interim chairman, from October 2016 through February 2017, and continues to head its charitable trusts.[2][3] He is the recipient of two civilian awards of India, the Padma Vibhushan (2008), the second highest civilian honour, and the Padma Bhushan (2000), the third highest civilian honour.[4]\\nBorn in 1937, he is an heir of the Tata family, and son of Naval Tata who was later adopted by Ratanji Tata, son of Jamsetji Tata, the founder of Tata Group. He is an alumnus of the Cornell University College of Architecture and Harvard Business School through the Advanced Management Program that he completed in 1975.[5] He joined his company in 1961 when he used to work on the shop floor of Tata Steel, and was the apparent successor to J. R. D. Tata upon the latter's retirement in 1991. He got Tata Tea to acquire Tetley, Tata Motors to acquire Jaguar Land Rover, and Tata Steel to acquire Corus, in an attempt to turn Tata from a largely India-centrist group into a global business. Around 60-65% of his profits are donated to charity making him one of the most significant philanthropists in the world. \\n\""
            ],
            "application/vnd.google.colaboratory.intrinsic+json": {
              "type": "string"
            }
          },
          "metadata": {},
          "execution_count": 56
        }
      ]
    },
    {
      "cell_type": "code",
      "source": [
        "sentences = nltk.sent_tokenize(paragraph)"
      ],
      "metadata": {
        "id": "RfShfroW_yRi"
      },
      "execution_count": 57,
      "outputs": []
    },
    {
      "cell_type": "code",
      "source": [
        "sentences"
      ],
      "metadata": {
        "colab": {
          "base_uri": "https://localhost:8080/"
        },
        "id": "KbDYYVSNAOL9",
        "outputId": "81e509cf-e541-4d73-ed40-d4d5d8bce691"
      },
      "execution_count": 58,
      "outputs": [
        {
          "output_type": "execute_result",
          "data": {
            "text/plain": [
              "['\\nRatan Naval Tata (Ratan Ṭāṭā, born 28 December 1937) is an Indian industrialist, philanthropist, and a former chairman of Tata Sons.',\n",
              " 'He was the chairman of Tata Group, from 1990 to 2012, and again, as interim chairman, from October 2016 through February 2017, and continues to head its charitable trusts.',\n",
              " '[2][3] He is the recipient of two civilian awards of India, the Padma Vibhushan (2008), the second highest civilian honour, and the Padma Bhushan (2000), the third highest civilian honour.',\n",
              " '[4]\\nBorn in 1937, he is an heir of the Tata family, and son of Naval Tata who was later adopted by Ratanji Tata, son of Jamsetji Tata, the founder of Tata Group.',\n",
              " 'He is an alumnus of the Cornell University College of Architecture and Harvard Business School through the Advanced Management Program that he completed in 1975.',\n",
              " \"[5] He joined his company in 1961 when he used to work on the shop floor of Tata Steel, and was the apparent successor to J. R. D. Tata upon the latter's retirement in 1991.\",\n",
              " 'He got Tata Tea to acquire Tetley, Tata Motors to acquire Jaguar Land Rover, and Tata Steel to acquire Corus, in an attempt to turn Tata from a largely India-centrist group into a global business.',\n",
              " 'Around 60-65% of his profits are donated to charity making him one of the most significant philanthropists in the world.']"
            ]
          },
          "metadata": {},
          "execution_count": 58
        }
      ]
    },
    {
      "cell_type": "code",
      "source": [
        "import re"
      ],
      "metadata": {
        "id": "_LbXmI6PAf0W"
      },
      "execution_count": 59,
      "outputs": []
    },
    {
      "cell_type": "code",
      "source": [
        "corpus = []\n",
        "for sentence in sentences:\n",
        "    review = re.sub('[^a-zA-Z]', ' ', sentence) \n",
        "    review = review.lower()\n",
        "    review = review.split()\n",
        "    review = [lemmatizer.lemmatize(word) for word in review if not word in set(stopwords.words('english'))]\n",
        "    review = ' '.join(review)\n",
        "    corpus.append(review)"
      ],
      "metadata": {
        "id": "Yl2GXgIgAPZQ"
      },
      "execution_count": 60,
      "outputs": []
    },
    {
      "cell_type": "code",
      "source": [
        "corpus"
      ],
      "metadata": {
        "colab": {
          "base_uri": "https://localhost:8080/"
        },
        "id": "HMPuASlwBDSG",
        "outputId": "ba33eb76-8ffd-4368-e93a-96f08414ab85"
      },
      "execution_count": 61,
      "outputs": [
        {
          "output_type": "execute_result",
          "data": {
            "text/plain": [
              "['ratan naval tata ratan born december indian industrialist philanthropist former chairman tata son',\n",
              " 'chairman tata group interim chairman october february continues head charitable trust',\n",
              " 'recipient two civilian award india padma vibhushan second highest civilian honour padma bhushan third highest civilian honour',\n",
              " 'born heir tata family son naval tata later adopted ratanji tata son jamsetji tata founder tata group',\n",
              " 'alumnus cornell university college architecture harvard business school advanced management program completed',\n",
              " 'joined company used work shop floor tata steel apparent successor j r tata upon latter retirement',\n",
              " 'got tata tea acquire tetley tata motor acquire jaguar land rover tata steel acquire corus attempt turn tata largely india centrist group global business',\n",
              " 'around profit donated charity making one significant philanthropist world']"
            ]
          },
          "metadata": {},
          "execution_count": 61
        }
      ]
    },
    {
      "cell_type": "code",
      "source": [
        "from sklearn.feature_extraction.text import CountVectorizer \n",
        "cv = CountVectorizer(binary = True, ngram_range=(1,1))"
      ],
      "metadata": {
        "id": "SadM2RzBBELN"
      },
      "execution_count": 62,
      "outputs": []
    },
    {
      "cell_type": "code",
      "source": [
        "X = cv.fit_transform(corpus)"
      ],
      "metadata": {
        "id": "1nEw5lPSBbz_"
      },
      "execution_count": 63,
      "outputs": []
    },
    {
      "cell_type": "code",
      "source": [
        "cv.vocabulary_"
      ],
      "metadata": {
        "colab": {
          "base_uri": "https://localhost:8080/"
        },
        "id": "S3IsC2FMBesr",
        "outputId": "526dadce-bf42-46ab-bbfb-b29f37e12546"
      },
      "execution_count": 64,
      "outputs": [
        {
          "output_type": "execute_result",
          "data": {
            "text/plain": [
              "{'ratan': 59,\n",
              " 'naval': 52,\n",
              " 'tata': 71,\n",
              " 'born': 10,\n",
              " 'december': 23,\n",
              " 'indian': 39,\n",
              " 'industrialist': 40,\n",
              " 'philanthropist': 56,\n",
              " 'former': 28,\n",
              " 'chairman': 13,\n",
              " 'son': 68,\n",
              " 'group': 32,\n",
              " 'interim': 41,\n",
              " 'october': 53,\n",
              " 'february': 26,\n",
              " 'continues': 20,\n",
              " 'head': 34,\n",
              " 'charitable': 14,\n",
              " 'trust': 75,\n",
              " 'recipient': 61,\n",
              " 'two': 77,\n",
              " 'civilian': 16,\n",
              " 'award': 8,\n",
              " 'india': 38,\n",
              " 'padma': 55,\n",
              " 'vibhushan': 81,\n",
              " 'second': 65,\n",
              " 'highest': 36,\n",
              " 'honour': 37,\n",
              " 'bhushan': 9,\n",
              " 'third': 74,\n",
              " 'heir': 35,\n",
              " 'family': 25,\n",
              " 'later': 47,\n",
              " 'adopted': 1,\n",
              " 'ratanji': 60,\n",
              " 'jamsetji': 43,\n",
              " 'founder': 29,\n",
              " 'alumnus': 3,\n",
              " 'cornell': 21,\n",
              " 'university': 78,\n",
              " 'college': 17,\n",
              " 'architecture': 5,\n",
              " 'harvard': 33,\n",
              " 'business': 11,\n",
              " 'school': 64,\n",
              " 'advanced': 2,\n",
              " 'management': 50,\n",
              " 'program': 58,\n",
              " 'completed': 19,\n",
              " 'joined': 44,\n",
              " 'company': 18,\n",
              " 'used': 80,\n",
              " 'work': 82,\n",
              " 'shop': 66,\n",
              " 'floor': 27,\n",
              " 'steel': 69,\n",
              " 'apparent': 4,\n",
              " 'successor': 70,\n",
              " 'upon': 79,\n",
              " 'latter': 48,\n",
              " 'retirement': 62,\n",
              " 'got': 31,\n",
              " 'tea': 72,\n",
              " 'acquire': 0,\n",
              " 'tetley': 73,\n",
              " 'motor': 51,\n",
              " 'jaguar': 42,\n",
              " 'land': 45,\n",
              " 'rover': 63,\n",
              " 'corus': 22,\n",
              " 'attempt': 7,\n",
              " 'turn': 76,\n",
              " 'largely': 46,\n",
              " 'centrist': 12,\n",
              " 'global': 30,\n",
              " 'around': 6,\n",
              " 'profit': 57,\n",
              " 'donated': 24,\n",
              " 'charity': 15,\n",
              " 'making': 49,\n",
              " 'one': 54,\n",
              " 'significant': 67,\n",
              " 'world': 83}"
            ]
          },
          "metadata": {},
          "execution_count": 64
        }
      ]
    },
    {
      "cell_type": "code",
      "source": [
        "corpus[0]"
      ],
      "metadata": {
        "colab": {
          "base_uri": "https://localhost:8080/",
          "height": 53
        },
        "id": "7PnBQhlXBgTx",
        "outputId": "9dc63cbc-d983-4441-a02e-4c6cec595fd7"
      },
      "execution_count": 65,
      "outputs": [
        {
          "output_type": "execute_result",
          "data": {
            "text/plain": [
              "'ratan naval tata ratan born december indian industrialist philanthropist former chairman tata son'"
            ],
            "application/vnd.google.colaboratory.intrinsic+json": {
              "type": "string"
            }
          },
          "metadata": {},
          "execution_count": 65
        }
      ]
    },
    {
      "cell_type": "code",
      "source": [
        "X[0].toarray()"
      ],
      "metadata": {
        "colab": {
          "base_uri": "https://localhost:8080/"
        },
        "id": "pl_2paQYBkJs",
        "outputId": "e75ac3d8-04b8-4cdb-8535-bc5b2f7fce45"
      },
      "execution_count": 66,
      "outputs": [
        {
          "output_type": "execute_result",
          "data": {
            "text/plain": [
              "array([[0, 0, 0, 0, 0, 0, 0, 0, 0, 0, 1, 0, 0, 1, 0, 0, 0, 0, 0, 0, 0, 0,\n",
              "        0, 1, 0, 0, 0, 0, 1, 0, 0, 0, 0, 0, 0, 0, 0, 0, 0, 1, 1, 0, 0, 0,\n",
              "        0, 0, 0, 0, 0, 0, 0, 0, 1, 0, 0, 0, 1, 0, 0, 1, 0, 0, 0, 0, 0, 0,\n",
              "        0, 0, 1, 0, 0, 1, 0, 0, 0, 0, 0, 0, 0, 0, 0, 0, 0, 0]])"
            ]
          },
          "metadata": {},
          "execution_count": 66
        }
      ]
    },
    {
      "cell_type": "code",
      "source": [
        "# TF-IDF \n",
        "from sklearn.feature_extraction.text import TfidfVectorizer "
      ],
      "metadata": {
        "id": "fPIyStlWBlwN"
      },
      "execution_count": 71,
      "outputs": []
    },
    {
      "cell_type": "code",
      "source": [
        "cv = TfidfVectorizer(ngram_range=(1,1) , max_features = 10)"
      ],
      "metadata": {
        "id": "5c0A2BEmBu2X"
      },
      "execution_count": 72,
      "outputs": []
    },
    {
      "cell_type": "code",
      "source": [
        "X = cv.fit_transform(corpus)"
      ],
      "metadata": {
        "id": "0DCL58_GB-pz"
      },
      "execution_count": 73,
      "outputs": []
    },
    {
      "cell_type": "code",
      "source": [
        "corpus[0]"
      ],
      "metadata": {
        "colab": {
          "base_uri": "https://localhost:8080/",
          "height": 53
        },
        "id": "8ZF96R1AB_KW",
        "outputId": "cca95a2b-9141-45a5-a746-f69debf847aa"
      },
      "execution_count": 74,
      "outputs": [
        {
          "output_type": "execute_result",
          "data": {
            "text/plain": [
              "'ratan naval tata ratan born december indian industrialist philanthropist former chairman tata son'"
            ],
            "application/vnd.google.colaboratory.intrinsic+json": {
              "type": "string"
            }
          },
          "metadata": {},
          "execution_count": 74
        }
      ]
    },
    {
      "cell_type": "code",
      "source": [
        "X[0].toarray()"
      ],
      "metadata": {
        "colab": {
          "base_uri": "https://localhost:8080/"
        },
        "id": "olyEFL2DCB2F",
        "outputId": "a9a203e3-ef60-4f6b-8fa3-2e318124b82e"
      },
      "execution_count": 75,
      "outputs": [
        {
          "output_type": "execute_result",
          "data": {
            "text/plain": [
              "array([[0.        , 0.29502479, 0.        , 0.29502479, 0.        ,\n",
              "        0.        , 0.29502479, 0.70405087, 0.29502479, 0.39516308]])"
            ]
          },
          "metadata": {},
          "execution_count": 75
        }
      ]
    },
    {
      "cell_type": "code",
      "source": [],
      "metadata": {
        "id": "YLjMeRokCEPZ"
      },
      "execution_count": null,
      "outputs": []
    }
  ]
}