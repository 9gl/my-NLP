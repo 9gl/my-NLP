{
  "cells": [
    {
      "cell_type": "markdown",
      "metadata": {
        "id": "view-in-github",
        "colab_type": "text"
      },
      "source": [
        "<a href=\"https://colab.research.google.com/github/gl-24/my-NLP/blob/main/day-8/Word_embedding_Techniques.ipynb\" target=\"_parent\"><img src=\"https://colab.research.google.com/assets/colab-badge.svg\" alt=\"Open In Colab\"/></a>"
      ]
    },
    {
      "cell_type": "markdown",
      "metadata": {
        "id": "eHNf7J680XF-"
      },
      "source": [
        "### Word Embedding Techniques using Embedding Layer in Keras"
      ]
    },
    {
      "cell_type": "code",
      "execution_count": 1,
      "metadata": {
        "id": "PEsK0_yl0XGB"
      },
      "outputs": [],
      "source": [
        "### Libraries USed Tensorflow> 2.0  and keras"
      ]
    },
    {
      "cell_type": "code",
      "execution_count": 3,
      "metadata": {
        "colab": {
          "base_uri": "https://localhost:8080/"
        },
        "id": "pslw1Ya90XGC",
        "outputId": "69f38fd4-a1fb-43bb-cfa3-2520bd5b2b8d"
      },
      "outputs": [
        {
          "output_type": "stream",
          "name": "stdout",
          "text": [
            "Looking in indexes: https://pypi.org/simple, https://us-python.pkg.dev/colab-wheels/public/simple/\n",
            "Collecting tensorflow-gpu\n",
            "  Downloading tensorflow_gpu-2.10.0-cp37-cp37m-manylinux_2_17_x86_64.manylinux2014_x86_64.whl (578.0 MB)\n",
            "\u001b[K     |████████████████████████████████| 578.0 MB 16 kB/s \n",
            "\u001b[?25hRequirement already satisfied: absl-py>=1.0.0 in /usr/local/lib/python3.7/dist-packages (from tensorflow-gpu) (1.2.0)\n",
            "Requirement already satisfied: protobuf<3.20,>=3.9.2 in /usr/local/lib/python3.7/dist-packages (from tensorflow-gpu) (3.17.3)\n",
            "Requirement already satisfied: setuptools in /usr/local/lib/python3.7/dist-packages (from tensorflow-gpu) (57.4.0)\n",
            "Requirement already satisfied: grpcio<2.0,>=1.24.3 in /usr/local/lib/python3.7/dist-packages (from tensorflow-gpu) (1.48.1)\n",
            "Requirement already satisfied: typing-extensions>=3.6.6 in /usr/local/lib/python3.7/dist-packages (from tensorflow-gpu) (4.1.1)\n",
            "Requirement already satisfied: keras-preprocessing>=1.1.1 in /usr/local/lib/python3.7/dist-packages (from tensorflow-gpu) (1.1.2)\n",
            "Collecting tensorflow-estimator<2.11,>=2.10.0\n",
            "  Downloading tensorflow_estimator-2.10.0-py2.py3-none-any.whl (438 kB)\n",
            "\u001b[K     |████████████████████████████████| 438 kB 63.3 MB/s \n",
            "\u001b[?25hRequirement already satisfied: packaging in /usr/local/lib/python3.7/dist-packages (from tensorflow-gpu) (21.3)\n",
            "Collecting gast<=0.4.0,>=0.2.1\n",
            "  Downloading gast-0.4.0-py3-none-any.whl (9.8 kB)\n",
            "Requirement already satisfied: tensorflow-io-gcs-filesystem>=0.23.1 in /usr/local/lib/python3.7/dist-packages (from tensorflow-gpu) (0.26.0)\n",
            "Requirement already satisfied: astunparse>=1.6.0 in /usr/local/lib/python3.7/dist-packages (from tensorflow-gpu) (1.6.3)\n",
            "Requirement already satisfied: h5py>=2.9.0 in /usr/local/lib/python3.7/dist-packages (from tensorflow-gpu) (3.1.0)\n",
            "Requirement already satisfied: flatbuffers>=2.0 in /usr/local/lib/python3.7/dist-packages (from tensorflow-gpu) (2.0.7)\n",
            "Requirement already satisfied: google-pasta>=0.1.1 in /usr/local/lib/python3.7/dist-packages (from tensorflow-gpu) (0.2.0)\n",
            "Requirement already satisfied: libclang>=13.0.0 in /usr/local/lib/python3.7/dist-packages (from tensorflow-gpu) (14.0.6)\n",
            "Requirement already satisfied: numpy>=1.20 in /usr/local/lib/python3.7/dist-packages (from tensorflow-gpu) (1.21.6)\n",
            "Requirement already satisfied: termcolor>=1.1.0 in /usr/local/lib/python3.7/dist-packages (from tensorflow-gpu) (1.1.0)\n",
            "Requirement already satisfied: wrapt>=1.11.0 in /usr/local/lib/python3.7/dist-packages (from tensorflow-gpu) (1.14.1)\n",
            "Requirement already satisfied: opt-einsum>=2.3.2 in /usr/local/lib/python3.7/dist-packages (from tensorflow-gpu) (3.3.0)\n",
            "Collecting tensorboard<2.11,>=2.10\n",
            "  Downloading tensorboard-2.10.0-py3-none-any.whl (5.9 MB)\n",
            "\u001b[K     |████████████████████████████████| 5.9 MB 55.6 MB/s \n",
            "\u001b[?25hRequirement already satisfied: six>=1.12.0 in /usr/local/lib/python3.7/dist-packages (from tensorflow-gpu) (1.15.0)\n",
            "Collecting keras<2.11,>=2.10.0\n",
            "  Downloading keras-2.10.0-py2.py3-none-any.whl (1.7 MB)\n",
            "\u001b[K     |████████████████████████████████| 1.7 MB 53.3 MB/s \n",
            "\u001b[?25hRequirement already satisfied: wheel<1.0,>=0.23.0 in /usr/local/lib/python3.7/dist-packages (from astunparse>=1.6.0->tensorflow-gpu) (0.37.1)\n",
            "Requirement already satisfied: cached-property in /usr/local/lib/python3.7/dist-packages (from h5py>=2.9.0->tensorflow-gpu) (1.5.2)\n",
            "Requirement already satisfied: tensorboard-plugin-wit>=1.6.0 in /usr/local/lib/python3.7/dist-packages (from tensorboard<2.11,>=2.10->tensorflow-gpu) (1.8.1)\n",
            "Requirement already satisfied: markdown>=2.6.8 in /usr/local/lib/python3.7/dist-packages (from tensorboard<2.11,>=2.10->tensorflow-gpu) (3.4.1)\n",
            "Requirement already satisfied: google-auth-oauthlib<0.5,>=0.4.1 in /usr/local/lib/python3.7/dist-packages (from tensorboard<2.11,>=2.10->tensorflow-gpu) (0.4.6)\n",
            "Requirement already satisfied: werkzeug>=1.0.1 in /usr/local/lib/python3.7/dist-packages (from tensorboard<2.11,>=2.10->tensorflow-gpu) (1.0.1)\n",
            "Requirement already satisfied: google-auth<3,>=1.6.3 in /usr/local/lib/python3.7/dist-packages (from tensorboard<2.11,>=2.10->tensorflow-gpu) (1.35.0)\n",
            "Requirement already satisfied: requests<3,>=2.21.0 in /usr/local/lib/python3.7/dist-packages (from tensorboard<2.11,>=2.10->tensorflow-gpu) (2.23.0)\n",
            "Requirement already satisfied: tensorboard-data-server<0.7.0,>=0.6.0 in /usr/local/lib/python3.7/dist-packages (from tensorboard<2.11,>=2.10->tensorflow-gpu) (0.6.1)\n",
            "Requirement already satisfied: cachetools<5.0,>=2.0.0 in /usr/local/lib/python3.7/dist-packages (from google-auth<3,>=1.6.3->tensorboard<2.11,>=2.10->tensorflow-gpu) (4.2.4)\n",
            "Requirement already satisfied: pyasn1-modules>=0.2.1 in /usr/local/lib/python3.7/dist-packages (from google-auth<3,>=1.6.3->tensorboard<2.11,>=2.10->tensorflow-gpu) (0.2.8)\n",
            "Requirement already satisfied: rsa<5,>=3.1.4 in /usr/local/lib/python3.7/dist-packages (from google-auth<3,>=1.6.3->tensorboard<2.11,>=2.10->tensorflow-gpu) (4.9)\n",
            "Requirement already satisfied: requests-oauthlib>=0.7.0 in /usr/local/lib/python3.7/dist-packages (from google-auth-oauthlib<0.5,>=0.4.1->tensorboard<2.11,>=2.10->tensorflow-gpu) (1.3.1)\n",
            "Requirement already satisfied: importlib-metadata>=4.4 in /usr/local/lib/python3.7/dist-packages (from markdown>=2.6.8->tensorboard<2.11,>=2.10->tensorflow-gpu) (4.12.0)\n",
            "Requirement already satisfied: zipp>=0.5 in /usr/local/lib/python3.7/dist-packages (from importlib-metadata>=4.4->markdown>=2.6.8->tensorboard<2.11,>=2.10->tensorflow-gpu) (3.8.1)\n",
            "Requirement already satisfied: pyasn1<0.5.0,>=0.4.6 in /usr/local/lib/python3.7/dist-packages (from pyasn1-modules>=0.2.1->google-auth<3,>=1.6.3->tensorboard<2.11,>=2.10->tensorflow-gpu) (0.4.8)\n",
            "Requirement already satisfied: certifi>=2017.4.17 in /usr/local/lib/python3.7/dist-packages (from requests<3,>=2.21.0->tensorboard<2.11,>=2.10->tensorflow-gpu) (2022.6.15)\n",
            "Requirement already satisfied: idna<3,>=2.5 in /usr/local/lib/python3.7/dist-packages (from requests<3,>=2.21.0->tensorboard<2.11,>=2.10->tensorflow-gpu) (2.10)\n",
            "Requirement already satisfied: urllib3!=1.25.0,!=1.25.1,<1.26,>=1.21.1 in /usr/local/lib/python3.7/dist-packages (from requests<3,>=2.21.0->tensorboard<2.11,>=2.10->tensorflow-gpu) (1.24.3)\n",
            "Requirement already satisfied: chardet<4,>=3.0.2 in /usr/local/lib/python3.7/dist-packages (from requests<3,>=2.21.0->tensorboard<2.11,>=2.10->tensorflow-gpu) (3.0.4)\n",
            "Requirement already satisfied: oauthlib>=3.0.0 in /usr/local/lib/python3.7/dist-packages (from requests-oauthlib>=0.7.0->google-auth-oauthlib<0.5,>=0.4.1->tensorboard<2.11,>=2.10->tensorflow-gpu) (3.2.0)\n",
            "Requirement already satisfied: pyparsing!=3.0.5,>=2.0.2 in /usr/local/lib/python3.7/dist-packages (from packaging->tensorflow-gpu) (3.0.9)\n",
            "Installing collected packages: tensorflow-estimator, tensorboard, keras, gast, tensorflow-gpu\n",
            "  Attempting uninstall: tensorflow-estimator\n",
            "    Found existing installation: tensorflow-estimator 2.8.0\n",
            "    Uninstalling tensorflow-estimator-2.8.0:\n",
            "      Successfully uninstalled tensorflow-estimator-2.8.0\n",
            "  Attempting uninstall: tensorboard\n",
            "    Found existing installation: tensorboard 2.8.0\n",
            "    Uninstalling tensorboard-2.8.0:\n",
            "      Successfully uninstalled tensorboard-2.8.0\n",
            "  Attempting uninstall: keras\n",
            "    Found existing installation: keras 2.8.0\n",
            "    Uninstalling keras-2.8.0:\n",
            "      Successfully uninstalled keras-2.8.0\n",
            "  Attempting uninstall: gast\n",
            "    Found existing installation: gast 0.5.3\n",
            "    Uninstalling gast-0.5.3:\n",
            "      Successfully uninstalled gast-0.5.3\n",
            "\u001b[31mERROR: pip's dependency resolver does not currently take into account all the packages that are installed. This behaviour is the source of the following dependency conflicts.\n",
            "tensorflow 2.8.2+zzzcolab20220719082949 requires keras<2.9,>=2.8.0rc0, but you have keras 2.10.0 which is incompatible.\n",
            "tensorflow 2.8.2+zzzcolab20220719082949 requires tensorboard<2.9,>=2.8, but you have tensorboard 2.10.0 which is incompatible.\n",
            "tensorflow 2.8.2+zzzcolab20220719082949 requires tensorflow-estimator<2.9,>=2.8, but you have tensorflow-estimator 2.10.0 which is incompatible.\u001b[0m\n",
            "Successfully installed gast-0.4.0 keras-2.10.0 tensorboard-2.10.0 tensorflow-estimator-2.10.0 tensorflow-gpu-2.10.0\n"
          ]
        }
      ],
      "source": [
        "!pip install tensorflow-gpu"
      ]
    },
    {
      "cell_type": "code",
      "source": [
        "import tensorflow as tf\n",
        "print(tf.__version__)"
      ],
      "metadata": {
        "colab": {
          "base_uri": "https://localhost:8080/"
        },
        "id": "yZ5hceiMAX7n",
        "outputId": "4c86dbda-8de5-48d0-9cb3-fe694bdef479"
      },
      "execution_count": 4,
      "outputs": [
        {
          "output_type": "stream",
          "name": "stdout",
          "text": [
            "2.10.0\n"
          ]
        }
      ]
    },
    {
      "cell_type": "code",
      "execution_count": 5,
      "metadata": {
        "id": "k4nKifUl0XGC"
      },
      "outputs": [],
      "source": [
        "##tensorflow >2.0\n",
        "from tensorflow.keras.preprocessing.text import one_hot"
      ]
    },
    {
      "cell_type": "code",
      "source": [],
      "metadata": {
        "id": "hADTdqZTAUfS"
      },
      "execution_count": 5,
      "outputs": []
    },
    {
      "cell_type": "code",
      "execution_count": 6,
      "metadata": {
        "id": "Fu9PuYeu0XGD"
      },
      "outputs": [],
      "source": [
        "### sentences\n",
        "sent=[  'the glass of milk',\n",
        "     'the glass of juice',\n",
        "     'the cup of tea',\n",
        "    'I am a good boy',\n",
        "     'I am a good developer',\n",
        "     'understand the meaning of words',\n",
        "     'your videos are good']"
      ]
    },
    {
      "cell_type": "code",
      "execution_count": 7,
      "metadata": {
        "colab": {
          "base_uri": "https://localhost:8080/"
        },
        "id": "x5d1D3_20XGD",
        "outputId": "b2ad2e3c-ada2-4ac4-bab3-5f4b723f6301"
      },
      "outputs": [
        {
          "output_type": "execute_result",
          "data": {
            "text/plain": [
              "['the glass of milk',\n",
              " 'the glass of juice',\n",
              " 'the cup of tea',\n",
              " 'I am a good boy',\n",
              " 'I am a good developer',\n",
              " 'understand the meaning of words',\n",
              " 'your videos are good']"
            ]
          },
          "metadata": {},
          "execution_count": 7
        }
      ],
      "source": [
        "sent"
      ]
    },
    {
      "cell_type": "code",
      "execution_count": 16,
      "metadata": {
        "id": "tjnXIn3B0XGE"
      },
      "outputs": [],
      "source": [
        "### Vocabulary size\n",
        "voc_size=10000"
      ]
    },
    {
      "cell_type": "markdown",
      "metadata": {
        "id": "-vQOdeKk0XGE"
      },
      "source": [
        "#### One Hot Representation"
      ]
    },
    {
      "cell_type": "code",
      "execution_count": 17,
      "metadata": {
        "colab": {
          "base_uri": "https://localhost:8080/"
        },
        "id": "gojfZpAW0XGE",
        "outputId": "2767926d-36b2-4877-98cc-5081275807de"
      },
      "outputs": [
        {
          "output_type": "stream",
          "name": "stdout",
          "text": [
            "[[482, 5708, 6857, 6558], [482, 5708, 6857, 8599], [482, 6258, 6857, 1473], [5575, 7360, 3036, 9666, 7570], [5575, 7360, 3036, 9666, 8124], [4076, 482, 5391, 6857, 9688], [5669, 1498, 2489, 9666]]\n"
          ]
        }
      ],
      "source": [
        "onehot_repr=[one_hot(words,voc_size)for words in sent] \n",
        "print(onehot_repr)"
      ]
    },
    {
      "cell_type": "markdown",
      "metadata": {
        "id": "eYG267x40XGF"
      },
      "source": [
        "### Word Embedding Represntation"
      ]
    },
    {
      "cell_type": "code",
      "execution_count": 10,
      "metadata": {
        "id": "wpqPm0tb0XGF"
      },
      "outputs": [],
      "source": [
        "from tensorflow.keras.layers import Embedding\n",
        "from tensorflow.keras.preprocessing.sequence import pad_sequences\n",
        "from tensorflow.keras.models import Sequential"
      ]
    },
    {
      "cell_type": "code",
      "execution_count": 11,
      "metadata": {
        "id": "Rov3GTM00XGG"
      },
      "outputs": [],
      "source": [
        "import numpy as np"
      ]
    },
    {
      "cell_type": "code",
      "execution_count": 12,
      "metadata": {
        "colab": {
          "base_uri": "https://localhost:8080/"
        },
        "id": "8fQLPw6p0XGG",
        "outputId": "c807892e-3c3c-4bc4-c647-4de13c2d3d0e"
      },
      "outputs": [
        {
          "output_type": "stream",
          "name": "stdout",
          "text": [
            "[[  0   0   0   0 112 100 437 239]\n",
            " [  0   0   0   0 112 100 437 436]\n",
            " [  0   0   0   0 112 235 437  86]\n",
            " [  0   0   0 100 446  12 132 128]\n",
            " [  0   0   0 100 446  12 132 122]\n",
            " [  0   0   0 400 112 337 437 249]\n",
            " [  0   0   0   0 451 457  28 132]]\n"
          ]
        }
      ],
      "source": [
        "## pre padding\n",
        "sent_length=8\n",
        "embedded_docs=pad_sequences(onehot_repr,padding='pre',maxlen=sent_length)\n",
        "print(embedded_docs)"
      ]
    },
    {
      "cell_type": "code",
      "execution_count": 13,
      "metadata": {
        "id": "yjQqBYac0XGG"
      },
      "outputs": [],
      "source": [
        "## 10 feature dimesnions\n",
        "dim=10\n"
      ]
    },
    {
      "cell_type": "code",
      "execution_count": 14,
      "metadata": {
        "id": "ozC-TXrt0XGG"
      },
      "outputs": [],
      "source": [
        "model=Sequential()\n",
        "model.add(Embedding(voc_size,10,input_length=sent_length))\n",
        "model.compile('adam','mse')"
      ]
    },
    {
      "cell_type": "code",
      "execution_count": 15,
      "metadata": {
        "colab": {
          "base_uri": "https://localhost:8080/"
        },
        "id": "tMNvq-Ji0XGH",
        "outputId": "f575b5b4-b037-4214-8827-69ba19a5db2d"
      },
      "outputs": [
        {
          "output_type": "stream",
          "name": "stdout",
          "text": [
            "Model: \"sequential\"\n",
            "_________________________________________________________________\n",
            " Layer (type)                Output Shape              Param #   \n",
            "=================================================================\n",
            " embedding (Embedding)       (None, 8, 10)             5000      \n",
            "                                                                 \n",
            "=================================================================\n",
            "Total params: 5,000\n",
            "Trainable params: 5,000\n",
            "Non-trainable params: 0\n",
            "_________________________________________________________________\n"
          ]
        }
      ],
      "source": [
        "model.summary()"
      ]
    },
    {
      "cell_type": "code",
      "source": [
        "##'the glass of milk',\n",
        "embedded_docs[0]"
      ],
      "metadata": {
        "colab": {
          "base_uri": "https://localhost:8080/"
        },
        "id": "FC4Ess_FEcb3",
        "outputId": "f664d2ee-8040-45b5-fca0-86fdb70d3ef5"
      },
      "execution_count": 18,
      "outputs": [
        {
          "output_type": "execute_result",
          "data": {
            "text/plain": [
              "array([  0,   0,   0,   0, 112, 100, 437, 239], dtype=int32)"
            ]
          },
          "metadata": {},
          "execution_count": 18
        }
      ]
    },
    {
      "cell_type": "code",
      "source": [
        "model.predict(embedded_docs[0])"
      ],
      "metadata": {
        "colab": {
          "base_uri": "https://localhost:8080/"
        },
        "id": "bRqEvMBYEZUS",
        "outputId": "6542dc92-b4a4-47bc-f1cc-ba75ee2afeae"
      },
      "execution_count": 19,
      "outputs": [
        {
          "output_type": "stream",
          "name": "stderr",
          "text": [
            "WARNING:tensorflow:Model was constructed with shape (None, 8) for input KerasTensor(type_spec=TensorSpec(shape=(None, 8), dtype=tf.float32, name='embedding_input'), name='embedding_input', description=\"created by layer 'embedding_input'\"), but it was called on an input with incompatible shape (None,).\n"
          ]
        },
        {
          "output_type": "stream",
          "name": "stdout",
          "text": [
            "1/1 [==============================] - 0s 71ms/step\n"
          ]
        },
        {
          "output_type": "execute_result",
          "data": {
            "text/plain": [
              "array([[-0.04319935, -0.01780663,  0.04679135, -0.04454088,  0.03012249,\n",
              "        -0.00124114, -0.03537669,  0.02287496,  0.00891273,  0.02533047],\n",
              "       [-0.04319935, -0.01780663,  0.04679135, -0.04454088,  0.03012249,\n",
              "        -0.00124114, -0.03537669,  0.02287496,  0.00891273,  0.02533047],\n",
              "       [-0.04319935, -0.01780663,  0.04679135, -0.04454088,  0.03012249,\n",
              "        -0.00124114, -0.03537669,  0.02287496,  0.00891273,  0.02533047],\n",
              "       [-0.04319935, -0.01780663,  0.04679135, -0.04454088,  0.03012249,\n",
              "        -0.00124114, -0.03537669,  0.02287496,  0.00891273,  0.02533047],\n",
              "       [-0.04056505, -0.04096148,  0.04391975,  0.03530758, -0.00528944,\n",
              "        -0.03741743,  0.02493669, -0.04273413,  0.0031963 ,  0.02614028],\n",
              "       [ 0.01831206,  0.01213298, -0.03471022, -0.01358557, -0.04395637,\n",
              "        -0.04712961, -0.04895685,  0.0171063 ,  0.04751246,  0.00370646],\n",
              "       [ 0.02560237,  0.01836565,  0.01119777, -0.03231386,  0.02636543,\n",
              "         0.03202537,  0.0432794 ,  0.00465319,  0.01671257,  0.03404951],\n",
              "       [ 0.00688518,  0.04682995, -0.01131562,  0.00626719, -0.02362764,\n",
              "        -0.02410745,  0.03309355,  0.02339375, -0.01727474, -0.01284492]],\n",
              "      dtype=float32)"
            ]
          },
          "metadata": {},
          "execution_count": 19
        }
      ]
    },
    {
      "cell_type": "code",
      "execution_count": 20,
      "metadata": {
        "colab": {
          "base_uri": "https://localhost:8080/"
        },
        "id": "kzKP69gx0XGH",
        "outputId": "b3636c6b-2589-4735-bd10-87e5568d13d2"
      },
      "outputs": [
        {
          "output_type": "stream",
          "name": "stdout",
          "text": [
            "1/1 [==============================] - 0s 36ms/step\n",
            "[[[-4.31993492e-02 -1.78066269e-02  4.67913486e-02 -4.45408821e-02\n",
            "    3.01224925e-02 -1.24113634e-03 -3.53766903e-02  2.28749551e-02\n",
            "    8.91273096e-03  2.53304727e-02]\n",
            "  [-4.31993492e-02 -1.78066269e-02  4.67913486e-02 -4.45408821e-02\n",
            "    3.01224925e-02 -1.24113634e-03 -3.53766903e-02  2.28749551e-02\n",
            "    8.91273096e-03  2.53304727e-02]\n",
            "  [-4.31993492e-02 -1.78066269e-02  4.67913486e-02 -4.45408821e-02\n",
            "    3.01224925e-02 -1.24113634e-03 -3.53766903e-02  2.28749551e-02\n",
            "    8.91273096e-03  2.53304727e-02]\n",
            "  [-4.31993492e-02 -1.78066269e-02  4.67913486e-02 -4.45408821e-02\n",
            "    3.01224925e-02 -1.24113634e-03 -3.53766903e-02  2.28749551e-02\n",
            "    8.91273096e-03  2.53304727e-02]\n",
            "  [-4.05650511e-02 -4.09614816e-02  4.39197533e-02  3.53075750e-02\n",
            "   -5.28943539e-03 -3.74174342e-02  2.49366872e-02 -4.27341349e-02\n",
            "    3.19629908e-03  2.61402838e-02]\n",
            "  [ 1.83120631e-02  1.21329799e-02 -3.47102173e-02 -1.35855675e-02\n",
            "   -4.39563654e-02 -4.71296087e-02 -4.89568487e-02  1.71062984e-02\n",
            "    4.75124605e-02  3.70645523e-03]\n",
            "  [ 2.56023668e-02  1.83656476e-02  1.11977682e-02 -3.23138610e-02\n",
            "    2.63654329e-02  3.20253707e-02  4.32793982e-02  4.65319306e-03\n",
            "    1.67125724e-02  3.40495147e-02]\n",
            "  [ 6.88518211e-03  4.68299501e-02 -1.13156214e-02  6.26718998e-03\n",
            "   -2.36276388e-02 -2.41074450e-02  3.30935456e-02  2.33937539e-02\n",
            "   -1.72747374e-02 -1.28449202e-02]]\n",
            "\n",
            " [[-4.31993492e-02 -1.78066269e-02  4.67913486e-02 -4.45408821e-02\n",
            "    3.01224925e-02 -1.24113634e-03 -3.53766903e-02  2.28749551e-02\n",
            "    8.91273096e-03  2.53304727e-02]\n",
            "  [-4.31993492e-02 -1.78066269e-02  4.67913486e-02 -4.45408821e-02\n",
            "    3.01224925e-02 -1.24113634e-03 -3.53766903e-02  2.28749551e-02\n",
            "    8.91273096e-03  2.53304727e-02]\n",
            "  [-4.31993492e-02 -1.78066269e-02  4.67913486e-02 -4.45408821e-02\n",
            "    3.01224925e-02 -1.24113634e-03 -3.53766903e-02  2.28749551e-02\n",
            "    8.91273096e-03  2.53304727e-02]\n",
            "  [-4.31993492e-02 -1.78066269e-02  4.67913486e-02 -4.45408821e-02\n",
            "    3.01224925e-02 -1.24113634e-03 -3.53766903e-02  2.28749551e-02\n",
            "    8.91273096e-03  2.53304727e-02]\n",
            "  [-4.05650511e-02 -4.09614816e-02  4.39197533e-02  3.53075750e-02\n",
            "   -5.28943539e-03 -3.74174342e-02  2.49366872e-02 -4.27341349e-02\n",
            "    3.19629908e-03  2.61402838e-02]\n",
            "  [ 1.83120631e-02  1.21329799e-02 -3.47102173e-02 -1.35855675e-02\n",
            "   -4.39563654e-02 -4.71296087e-02 -4.89568487e-02  1.71062984e-02\n",
            "    4.75124605e-02  3.70645523e-03]\n",
            "  [ 2.56023668e-02  1.83656476e-02  1.11977682e-02 -3.23138610e-02\n",
            "    2.63654329e-02  3.20253707e-02  4.32793982e-02  4.65319306e-03\n",
            "    1.67125724e-02  3.40495147e-02]\n",
            "  [ 4.60393913e-02 -1.75549760e-02 -3.58807072e-02  1.35806240e-02\n",
            "    3.01128514e-02  4.84444387e-02  4.57924120e-02 -4.79135625e-02\n",
            "   -3.56817842e-02 -3.11206114e-02]]\n",
            "\n",
            " [[-4.31993492e-02 -1.78066269e-02  4.67913486e-02 -4.45408821e-02\n",
            "    3.01224925e-02 -1.24113634e-03 -3.53766903e-02  2.28749551e-02\n",
            "    8.91273096e-03  2.53304727e-02]\n",
            "  [-4.31993492e-02 -1.78066269e-02  4.67913486e-02 -4.45408821e-02\n",
            "    3.01224925e-02 -1.24113634e-03 -3.53766903e-02  2.28749551e-02\n",
            "    8.91273096e-03  2.53304727e-02]\n",
            "  [-4.31993492e-02 -1.78066269e-02  4.67913486e-02 -4.45408821e-02\n",
            "    3.01224925e-02 -1.24113634e-03 -3.53766903e-02  2.28749551e-02\n",
            "    8.91273096e-03  2.53304727e-02]\n",
            "  [-4.31993492e-02 -1.78066269e-02  4.67913486e-02 -4.45408821e-02\n",
            "    3.01224925e-02 -1.24113634e-03 -3.53766903e-02  2.28749551e-02\n",
            "    8.91273096e-03  2.53304727e-02]\n",
            "  [-4.05650511e-02 -4.09614816e-02  4.39197533e-02  3.53075750e-02\n",
            "   -5.28943539e-03 -3.74174342e-02  2.49366872e-02 -4.27341349e-02\n",
            "    3.19629908e-03  2.61402838e-02]\n",
            "  [-1.83641799e-02 -1.73299387e-03 -1.30776986e-02  1.95212476e-02\n",
            "   -1.58954263e-02  2.42163576e-02  3.74770872e-02 -3.03287506e-02\n",
            "   -3.40310819e-02 -3.69899496e-02]\n",
            "  [ 2.56023668e-02  1.83656476e-02  1.11977682e-02 -3.23138610e-02\n",
            "    2.63654329e-02  3.20253707e-02  4.32793982e-02  4.65319306e-03\n",
            "    1.67125724e-02  3.40495147e-02]\n",
            "  [ 4.98747118e-02 -4.13023829e-02  2.76696794e-02 -2.99451705e-02\n",
            "    2.05469988e-02 -1.31408945e-02 -1.88527238e-02 -2.46722102e-02\n",
            "    1.35916360e-02  2.28036903e-02]]\n",
            "\n",
            " [[-4.31993492e-02 -1.78066269e-02  4.67913486e-02 -4.45408821e-02\n",
            "    3.01224925e-02 -1.24113634e-03 -3.53766903e-02  2.28749551e-02\n",
            "    8.91273096e-03  2.53304727e-02]\n",
            "  [-4.31993492e-02 -1.78066269e-02  4.67913486e-02 -4.45408821e-02\n",
            "    3.01224925e-02 -1.24113634e-03 -3.53766903e-02  2.28749551e-02\n",
            "    8.91273096e-03  2.53304727e-02]\n",
            "  [-4.31993492e-02 -1.78066269e-02  4.67913486e-02 -4.45408821e-02\n",
            "    3.01224925e-02 -1.24113634e-03 -3.53766903e-02  2.28749551e-02\n",
            "    8.91273096e-03  2.53304727e-02]\n",
            "  [ 1.83120631e-02  1.21329799e-02 -3.47102173e-02 -1.35855675e-02\n",
            "   -4.39563654e-02 -4.71296087e-02 -4.89568487e-02  1.71062984e-02\n",
            "    4.75124605e-02  3.70645523e-03]\n",
            "  [-3.96151543e-02  1.81550048e-02 -2.42285375e-02 -1.63807869e-02\n",
            "    1.96941607e-02 -4.19721603e-02 -1.23040192e-02  4.34901007e-02\n",
            "    4.92863990e-02  4.32769097e-02]\n",
            "  [ 7.91381672e-03 -2.81285290e-02  4.31909673e-02  4.45106067e-02\n",
            "   -3.31126824e-02  5.35299629e-03  3.80037315e-02 -1.49278417e-02\n",
            "   -2.82257441e-02 -1.32399909e-02]\n",
            "  [ 1.63991787e-02  7.10836798e-03  1.87181123e-02 -2.04586871e-02\n",
            "    1.13370791e-02 -4.51698899e-02 -4.93623018e-02  4.26340960e-02\n",
            "   -2.60839108e-02  3.17458063e-03]\n",
            "  [-4.48020697e-02 -2.67221928e-02 -7.84953684e-03  4.44791354e-02\n",
            "   -2.02127583e-02  4.52099182e-02  4.44172882e-02 -2.62375362e-02\n",
            "   -3.69183645e-02  4.05918472e-02]]\n",
            "\n",
            " [[-4.31993492e-02 -1.78066269e-02  4.67913486e-02 -4.45408821e-02\n",
            "    3.01224925e-02 -1.24113634e-03 -3.53766903e-02  2.28749551e-02\n",
            "    8.91273096e-03  2.53304727e-02]\n",
            "  [-4.31993492e-02 -1.78066269e-02  4.67913486e-02 -4.45408821e-02\n",
            "    3.01224925e-02 -1.24113634e-03 -3.53766903e-02  2.28749551e-02\n",
            "    8.91273096e-03  2.53304727e-02]\n",
            "  [-4.31993492e-02 -1.78066269e-02  4.67913486e-02 -4.45408821e-02\n",
            "    3.01224925e-02 -1.24113634e-03 -3.53766903e-02  2.28749551e-02\n",
            "    8.91273096e-03  2.53304727e-02]\n",
            "  [ 1.83120631e-02  1.21329799e-02 -3.47102173e-02 -1.35855675e-02\n",
            "   -4.39563654e-02 -4.71296087e-02 -4.89568487e-02  1.71062984e-02\n",
            "    4.75124605e-02  3.70645523e-03]\n",
            "  [-3.96151543e-02  1.81550048e-02 -2.42285375e-02 -1.63807869e-02\n",
            "    1.96941607e-02 -4.19721603e-02 -1.23040192e-02  4.34901007e-02\n",
            "    4.92863990e-02  4.32769097e-02]\n",
            "  [ 7.91381672e-03 -2.81285290e-02  4.31909673e-02  4.45106067e-02\n",
            "   -3.31126824e-02  5.35299629e-03  3.80037315e-02 -1.49278417e-02\n",
            "   -2.82257441e-02 -1.32399909e-02]\n",
            "  [ 1.63991787e-02  7.10836798e-03  1.87181123e-02 -2.04586871e-02\n",
            "    1.13370791e-02 -4.51698899e-02 -4.93623018e-02  4.26340960e-02\n",
            "   -2.60839108e-02  3.17458063e-03]\n",
            "  [ 3.30282375e-03 -3.78103741e-02  4.87235449e-02 -3.91585343e-02\n",
            "    3.30449082e-02 -4.04998772e-02 -3.14355642e-02  2.30115764e-02\n",
            "    3.37842964e-02 -1.48446187e-02]]\n",
            "\n",
            " [[-4.31993492e-02 -1.78066269e-02  4.67913486e-02 -4.45408821e-02\n",
            "    3.01224925e-02 -1.24113634e-03 -3.53766903e-02  2.28749551e-02\n",
            "    8.91273096e-03  2.53304727e-02]\n",
            "  [-4.31993492e-02 -1.78066269e-02  4.67913486e-02 -4.45408821e-02\n",
            "    3.01224925e-02 -1.24113634e-03 -3.53766903e-02  2.28749551e-02\n",
            "    8.91273096e-03  2.53304727e-02]\n",
            "  [-4.31993492e-02 -1.78066269e-02  4.67913486e-02 -4.45408821e-02\n",
            "    3.01224925e-02 -1.24113634e-03 -3.53766903e-02  2.28749551e-02\n",
            "    8.91273096e-03  2.53304727e-02]\n",
            "  [ 3.44661139e-02 -1.06988661e-02 -4.35062312e-02  1.84580199e-02\n",
            "   -1.25315301e-02 -4.72554564e-02  2.02860944e-02  8.66679102e-03\n",
            "    2.72731073e-02  1.51687302e-02]\n",
            "  [-4.05650511e-02 -4.09614816e-02  4.39197533e-02  3.53075750e-02\n",
            "   -5.28943539e-03 -3.74174342e-02  2.49366872e-02 -4.27341349e-02\n",
            "    3.19629908e-03  2.61402838e-02]\n",
            "  [ 2.24638842e-02 -4.94564436e-02 -4.98175137e-02 -1.34831667e-02\n",
            "    3.74175347e-02 -1.22816488e-03  4.50524725e-02 -1.63767710e-02\n",
            "   -2.35466603e-02  7.53184408e-03]\n",
            "  [ 2.56023668e-02  1.83656476e-02  1.11977682e-02 -3.23138610e-02\n",
            "    2.63654329e-02  3.20253707e-02  4.32793982e-02  4.65319306e-03\n",
            "    1.67125724e-02  3.40495147e-02]\n",
            "  [-4.69761603e-02  1.30161643e-05  4.74906452e-02  1.57378949e-02\n",
            "    1.81384347e-02 -4.77852337e-02 -4.11558747e-02  1.08122118e-02\n",
            "    2.52579339e-02  4.80792411e-02]]\n",
            "\n",
            " [[-4.31993492e-02 -1.78066269e-02  4.67913486e-02 -4.45408821e-02\n",
            "    3.01224925e-02 -1.24113634e-03 -3.53766903e-02  2.28749551e-02\n",
            "    8.91273096e-03  2.53304727e-02]\n",
            "  [-4.31993492e-02 -1.78066269e-02  4.67913486e-02 -4.45408821e-02\n",
            "    3.01224925e-02 -1.24113634e-03 -3.53766903e-02  2.28749551e-02\n",
            "    8.91273096e-03  2.53304727e-02]\n",
            "  [-4.31993492e-02 -1.78066269e-02  4.67913486e-02 -4.45408821e-02\n",
            "    3.01224925e-02 -1.24113634e-03 -3.53766903e-02  2.28749551e-02\n",
            "    8.91273096e-03  2.53304727e-02]\n",
            "  [-4.31993492e-02 -1.78066269e-02  4.67913486e-02 -4.45408821e-02\n",
            "    3.01224925e-02 -1.24113634e-03 -3.53766903e-02  2.28749551e-02\n",
            "    8.91273096e-03  2.53304727e-02]\n",
            "  [-1.64769664e-02  2.71906145e-02  3.19850929e-02 -1.22902542e-03\n",
            "   -1.46760345e-02  2.86367275e-02 -2.59534009e-02  4.61203977e-03\n",
            "    1.99956633e-02  3.56977694e-02]\n",
            "  [-2.86462437e-02  1.22177228e-02  4.36028130e-02 -3.50656398e-02\n",
            "   -4.10556085e-02 -2.21794732e-02 -3.57950218e-02 -4.25628312e-02\n",
            "    8.37061554e-03 -6.82919100e-03]\n",
            "  [ 2.49722637e-02 -2.37679016e-02  4.39156331e-02 -3.34588513e-02\n",
            "    2.66750716e-02 -3.69605795e-02 -2.12708861e-03 -8.48006085e-03\n",
            "   -1.76585913e-02 -1.21679194e-02]\n",
            "  [ 1.63991787e-02  7.10836798e-03  1.87181123e-02 -2.04586871e-02\n",
            "    1.13370791e-02 -4.51698899e-02 -4.93623018e-02  4.26340960e-02\n",
            "   -2.60839108e-02  3.17458063e-03]]]\n"
          ]
        }
      ],
      "source": [
        "print(model.predict(embedded_docs))"
      ]
    },
    {
      "cell_type": "code",
      "execution_count": 21,
      "metadata": {
        "id": "JuUxfk7d0XGH",
        "outputId": "285e646d-4ef2-4a6f-b413-2dc923f4f1f3",
        "colab": {
          "base_uri": "https://localhost:8080/"
        }
      },
      "outputs": [
        {
          "output_type": "execute_result",
          "data": {
            "text/plain": [
              "array([  0,   0,   0,   0, 112, 100, 437, 239], dtype=int32)"
            ]
          },
          "metadata": {},
          "execution_count": 21
        }
      ],
      "source": [
        "embedded_docs[0]"
      ]
    },
    {
      "cell_type": "code",
      "execution_count": 22,
      "metadata": {
        "id": "6JJ_zD0u0XGH",
        "outputId": "da1b5a00-197c-4c50-bfb9-d51cc0d4cf2a",
        "colab": {
          "base_uri": "https://localhost:8080/"
        }
      },
      "outputs": [
        {
          "output_type": "stream",
          "name": "stdout",
          "text": [
            "1/1 [==============================] - 0s 17ms/step\n",
            "[[-0.04319935 -0.01780663  0.04679135 -0.04454088  0.03012249 -0.00124114\n",
            "  -0.03537669  0.02287496  0.00891273  0.02533047]\n",
            " [-0.04319935 -0.01780663  0.04679135 -0.04454088  0.03012249 -0.00124114\n",
            "  -0.03537669  0.02287496  0.00891273  0.02533047]\n",
            " [-0.04319935 -0.01780663  0.04679135 -0.04454088  0.03012249 -0.00124114\n",
            "  -0.03537669  0.02287496  0.00891273  0.02533047]\n",
            " [-0.04319935 -0.01780663  0.04679135 -0.04454088  0.03012249 -0.00124114\n",
            "  -0.03537669  0.02287496  0.00891273  0.02533047]\n",
            " [-0.04056505 -0.04096148  0.04391975  0.03530758 -0.00528944 -0.03741743\n",
            "   0.02493669 -0.04273413  0.0031963   0.02614028]\n",
            " [ 0.01831206  0.01213298 -0.03471022 -0.01358557 -0.04395637 -0.04712961\n",
            "  -0.04895685  0.0171063   0.04751246  0.00370646]\n",
            " [ 0.02560237  0.01836565  0.01119777 -0.03231386  0.02636543  0.03202537\n",
            "   0.0432794   0.00465319  0.01671257  0.03404951]\n",
            " [ 0.00688518  0.04682995 -0.01131562  0.00626719 -0.02362764 -0.02410745\n",
            "   0.03309355  0.02339375 -0.01727474 -0.01284492]]\n"
          ]
        }
      ],
      "source": [
        "print(model.predict(embedded_docs)[0])"
      ]
    },
    {
      "cell_type": "code",
      "execution_count": 23,
      "metadata": {
        "id": "8OMu3iAz0XGH"
      },
      "outputs": [],
      "source": [
        "### Assignment\n",
        "\n",
        "sent=[\"The world is a better place\",\n",
        "      \"Marvel series is my favourite movie\",\n",
        "      \"I like DC movies\",\n",
        "      \"the cat is eating the food\",\n",
        "      \"Tom and Jerry is my favourite movie\",\n",
        "      \"Python is my favourite programming language\"\n",
        "      ]"
      ]
    },
    {
      "cell_type": "code",
      "source": [],
      "metadata": {
        "id": "uwEtbfymy0dF"
      },
      "execution_count": null,
      "outputs": []
    }
  ],
  "metadata": {
    "kernelspec": {
      "display_name": "Python 3",
      "language": "python",
      "name": "python3"
    },
    "language_info": {
      "codemirror_mode": {
        "name": "ipython",
        "version": 3
      },
      "file_extension": ".py",
      "mimetype": "text/x-python",
      "name": "python",
      "nbconvert_exporter": "python",
      "pygments_lexer": "ipython3",
      "version": "3.7.4"
    },
    "colab": {
      "provenance": [],
      "collapsed_sections": [],
      "include_colab_link": true
    },
    "accelerator": "GPU",
    "gpuClass": "standard"
  },
  "nbformat": 4,
  "nbformat_minor": 0
}